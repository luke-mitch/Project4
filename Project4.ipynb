{
 "cells": [
  {
   "cell_type": "code",
   "execution_count": 1,
   "metadata": {},
   "outputs": [],
   "source": [
    "import numpy as np\n",
    "import matplotlib.pyplot as plt\n",
    "import math\n",
    "import pandas as pd\n",
    "import matplotlib.pylab as pl\n",
    "import os\n",
    "import sklearn\n",
    "from  tensorflow.keras.callbacks  import  EarlyStopping , ModelCheckpoint\n",
    "from  sklearn  import  model_selection , preprocessing\n",
    "from  tensorflow.keras.models  import  Sequential\n",
    "from  tensorflow.keras.layers  import  Dense\n",
    "from  tensorflow.keras.layers  import  Dropout\n",
    "from  tensorflow.keras.wrappers.scikit_learn  import  KerasRegressor\n",
    "from  sklearn.model_selection  import  cross_val_score\n",
    "from  sklearn.model_selection  import  KFold\n",
    "from  sklearn.preprocessing  import  StandardScaler\n",
    "from  sklearn.pipeline  import  Pipeline\n",
    "from sklearn.model_selection import cross_val_predict\n",
    "from  sklearn.ensemble  import  GradientBoostingRegressor\n",
    "from  sklearn.model_selection  import  GridSearchCV\n",
    "import scipy.integrate as integrate\n",
    "import scipy.optimize as minimiser\n",
    "from scipy.stats import norm\n",
    "import numpy.polynomial.polynomial as poly\n",
    "import Analyzer\n",
    "import FuncUtil\n",
    "from Analyzer import Analyzer\n",
    "import scipy.stats\n",
    "from scipy.special import erfinv\n",
    "from scipy.optimize import minimize\n",
    "import nn_utils\n",
    "import dt_utils\n",
    "import my_util"
   ]
  },
  {
   "cell_type": "markdown",
   "metadata": {},
   "source": [
    "# SET UP"
   ]
  },
  {
   "cell_type": "markdown",
   "metadata": {},
   "source": [
    "# Importing datasets\n",
    "\n",
    "where, all datasets:\n",
    "- Drop the unnamed index column as pandas creates its own index\n",
    "- Change any infinities for NaN and then drop all NaN\n",
    "- Comments are specified by #\n",
    "- Only the top 5 results are shown but I have checked random samples"
   ]
  },
  {
   "cell_type": "code",
   "execution_count": 2,
   "metadata": {},
   "outputs": [
    {
     "data": {
      "text/html": [
       "<div>\n",
       "<style scoped>\n",
       "    .dataframe tbody tr th:only-of-type {\n",
       "        vertical-align: middle;\n",
       "    }\n",
       "\n",
       "    .dataframe tbody tr th {\n",
       "        vertical-align: top;\n",
       "    }\n",
       "\n",
       "    .dataframe thead th {\n",
       "        text-align: right;\n",
       "    }\n",
       "</style>\n",
       "<table border=\"1\" class=\"dataframe\">\n",
       "  <thead>\n",
       "    <tr style=\"text-align: right;\">\n",
       "      <th></th>\n",
       "      <th>FullEventWeight</th>\n",
       "      <th>MET</th>\n",
       "      <th>Topology</th>\n",
       "      <th>Zll_mass</th>\n",
       "      <th>Zll_pt</th>\n",
       "      <th>fatjet_C2</th>\n",
       "      <th>fatjet_D2</th>\n",
       "      <th>fatjet_E</th>\n",
       "      <th>fatjet_eta</th>\n",
       "      <th>fatjet_phi</th>\n",
       "      <th>...</th>\n",
       "      <th>lep1_eta</th>\n",
       "      <th>lep1_phi</th>\n",
       "      <th>lep1_pt</th>\n",
       "      <th>lep2_E</th>\n",
       "      <th>lep2_charge</th>\n",
       "      <th>lep2_eta</th>\n",
       "      <th>lep2_phi</th>\n",
       "      <th>lep2_pt</th>\n",
       "      <th>reco_zv_mass</th>\n",
       "      <th>truth_zv_mass</th>\n",
       "    </tr>\n",
       "  </thead>\n",
       "  <tbody>\n",
       "    <tr>\n",
       "      <th>0</th>\n",
       "      <td>0.387345</td>\n",
       "      <td>41920.540</td>\n",
       "      <td>0</td>\n",
       "      <td>187549.810</td>\n",
       "      <td>374316.600</td>\n",
       "      <td>0.127114</td>\n",
       "      <td>1.786927</td>\n",
       "      <td>353161.47</td>\n",
       "      <td>-0.001591</td>\n",
       "      <td>1.914456</td>\n",
       "      <td>...</td>\n",
       "      <td>1.677279</td>\n",
       "      <td>-1.346853</td>\n",
       "      <td>369495.34</td>\n",
       "      <td>12147.315</td>\n",
       "      <td>1</td>\n",
       "      <td>-0.686657</td>\n",
       "      <td>-2.412152</td>\n",
       "      <td>9755.2705</td>\n",
       "      <td>1014320.10</td>\n",
       "      <td>-1.0</td>\n",
       "    </tr>\n",
       "    <tr>\n",
       "      <th>1</th>\n",
       "      <td>0.172328</td>\n",
       "      <td>225618.530</td>\n",
       "      <td>0</td>\n",
       "      <td>13106.807</td>\n",
       "      <td>51429.535</td>\n",
       "      <td>0.269517</td>\n",
       "      <td>2.296220</td>\n",
       "      <td>357617.66</td>\n",
       "      <td>-1.066937</td>\n",
       "      <td>-0.145452</td>\n",
       "      <td>...</td>\n",
       "      <td>-2.057147</td>\n",
       "      <td>2.975854</td>\n",
       "      <td>36972.74</td>\n",
       "      <td>34980.440</td>\n",
       "      <td>-1</td>\n",
       "      <td>-1.521354</td>\n",
       "      <td>2.819377</td>\n",
       "      <td>14584.7360</td>\n",
       "      <td>240295.97</td>\n",
       "      <td>-1.0</td>\n",
       "    </tr>\n",
       "    <tr>\n",
       "      <th>2</th>\n",
       "      <td>0.371392</td>\n",
       "      <td>42284.125</td>\n",
       "      <td>0</td>\n",
       "      <td>84519.230</td>\n",
       "      <td>153790.270</td>\n",
       "      <td>0.051175</td>\n",
       "      <td>3.360730</td>\n",
       "      <td>345472.30</td>\n",
       "      <td>0.704825</td>\n",
       "      <td>-2.816466</td>\n",
       "      <td>...</td>\n",
       "      <td>-0.285897</td>\n",
       "      <td>-0.084159</td>\n",
       "      <td>146895.95</td>\n",
       "      <td>24618.990</td>\n",
       "      <td>-1</td>\n",
       "      <td>0.741342</td>\n",
       "      <td>1.177780</td>\n",
       "      <td>19119.7030</td>\n",
       "      <td>471285.40</td>\n",
       "      <td>-1.0</td>\n",
       "    </tr>\n",
       "    <tr>\n",
       "      <th>3</th>\n",
       "      <td>0.309902</td>\n",
       "      <td>42735.938</td>\n",
       "      <td>1</td>\n",
       "      <td>76138.640</td>\n",
       "      <td>102611.836</td>\n",
       "      <td>0.117028</td>\n",
       "      <td>0.702838</td>\n",
       "      <td>476446.80</td>\n",
       "      <td>0.095546</td>\n",
       "      <td>1.012053</td>\n",
       "      <td>...</td>\n",
       "      <td>-0.160614</td>\n",
       "      <td>-2.544057</td>\n",
       "      <td>109699.72</td>\n",
       "      <td>22303.861</td>\n",
       "      <td>1</td>\n",
       "      <td>-1.648011</td>\n",
       "      <td>1.120479</td>\n",
       "      <td>8277.4480</td>\n",
       "      <td>495503.10</td>\n",
       "      <td>-1.0</td>\n",
       "    </tr>\n",
       "    <tr>\n",
       "      <th>4</th>\n",
       "      <td>0.202772</td>\n",
       "      <td>70475.780</td>\n",
       "      <td>0</td>\n",
       "      <td>86138.000</td>\n",
       "      <td>141886.280</td>\n",
       "      <td>0.053951</td>\n",
       "      <td>3.634348</td>\n",
       "      <td>799487.75</td>\n",
       "      <td>-1.828396</td>\n",
       "      <td>-2.406883</td>\n",
       "      <td>...</td>\n",
       "      <td>-0.499056</td>\n",
       "      <td>0.429884</td>\n",
       "      <td>151453.40</td>\n",
       "      <td>14053.401</td>\n",
       "      <td>-1</td>\n",
       "      <td>-0.171763</td>\n",
       "      <td>2.796952</td>\n",
       "      <td>13848.2230</td>\n",
       "      <td>498823.40</td>\n",
       "      <td>-1.0</td>\n",
       "    </tr>\n",
       "  </tbody>\n",
       "</table>\n",
       "<p>5 rows × 24 columns</p>\n",
       "</div>"
      ],
      "text/plain": [
       "   FullEventWeight         MET  Topology    Zll_mass      Zll_pt  fatjet_C2  \\\n",
       "0         0.387345   41920.540         0  187549.810  374316.600   0.127114   \n",
       "1         0.172328  225618.530         0   13106.807   51429.535   0.269517   \n",
       "2         0.371392   42284.125         0   84519.230  153790.270   0.051175   \n",
       "3         0.309902   42735.938         1   76138.640  102611.836   0.117028   \n",
       "4         0.202772   70475.780         0   86138.000  141886.280   0.053951   \n",
       "\n",
       "   fatjet_D2   fatjet_E  fatjet_eta  fatjet_phi      ...        lep1_eta  \\\n",
       "0   1.786927  353161.47   -0.001591    1.914456      ...        1.677279   \n",
       "1   2.296220  357617.66   -1.066937   -0.145452      ...       -2.057147   \n",
       "2   3.360730  345472.30    0.704825   -2.816466      ...       -0.285897   \n",
       "3   0.702838  476446.80    0.095546    1.012053      ...       -0.160614   \n",
       "4   3.634348  799487.75   -1.828396   -2.406883      ...       -0.499056   \n",
       "\n",
       "   lep1_phi    lep1_pt     lep2_E  lep2_charge  lep2_eta  lep2_phi  \\\n",
       "0 -1.346853  369495.34  12147.315            1 -0.686657 -2.412152   \n",
       "1  2.975854   36972.74  34980.440           -1 -1.521354  2.819377   \n",
       "2 -0.084159  146895.95  24618.990           -1  0.741342  1.177780   \n",
       "3 -2.544057  109699.72  22303.861            1 -1.648011  1.120479   \n",
       "4  0.429884  151453.40  14053.401           -1 -0.171763  2.796952   \n",
       "\n",
       "      lep2_pt  reco_zv_mass  truth_zv_mass  \n",
       "0   9755.2705    1014320.10           -1.0  \n",
       "1  14584.7360     240295.97           -1.0  \n",
       "2  19119.7030     471285.40           -1.0  \n",
       "3   8277.4480     495503.10           -1.0  \n",
       "4  13848.2230     498823.40           -1.0  \n",
       "\n",
       "[5 rows x 24 columns]"
      ]
     },
     "execution_count": 2,
     "metadata": {},
     "output_type": "execute_result"
    }
   ],
   "source": [
    "Diboson = pd.read_csv( \"./Diboson.csv\", comment=\"#\")\n",
    "#Diboson.rename(columns={}, inplace=True)\n",
    "Diboson = Diboson.drop([\"Unnamed: 0\"], axis=1)\n",
    "Diboson = Diboson.replace([np.inf, -np.inf], np.nan).dropna()\n",
    "Diboson.head(5)"
   ]
  },
  {
   "cell_type": "code",
   "execution_count": 3,
   "metadata": {},
   "outputs": [
    {
     "data": {
      "text/html": [
       "<div>\n",
       "<style scoped>\n",
       "    .dataframe tbody tr th:only-of-type {\n",
       "        vertical-align: middle;\n",
       "    }\n",
       "\n",
       "    .dataframe tbody tr th {\n",
       "        vertical-align: top;\n",
       "    }\n",
       "\n",
       "    .dataframe thead th {\n",
       "        text-align: right;\n",
       "    }\n",
       "</style>\n",
       "<table border=\"1\" class=\"dataframe\">\n",
       "  <thead>\n",
       "    <tr style=\"text-align: right;\">\n",
       "      <th></th>\n",
       "      <th>FullEventWeight</th>\n",
       "      <th>MET</th>\n",
       "      <th>Topology</th>\n",
       "      <th>Zll_mass</th>\n",
       "      <th>Zll_pt</th>\n",
       "      <th>fatjet_C2</th>\n",
       "      <th>fatjet_D2</th>\n",
       "      <th>fatjet_E</th>\n",
       "      <th>fatjet_eta</th>\n",
       "      <th>fatjet_phi</th>\n",
       "      <th>...</th>\n",
       "      <th>lep1_eta</th>\n",
       "      <th>lep1_phi</th>\n",
       "      <th>lep1_pt</th>\n",
       "      <th>lep2_E</th>\n",
       "      <th>lep2_charge</th>\n",
       "      <th>lep2_eta</th>\n",
       "      <th>lep2_phi</th>\n",
       "      <th>lep2_pt</th>\n",
       "      <th>reco_zv_mass</th>\n",
       "      <th>truth_zv_mass</th>\n",
       "    </tr>\n",
       "  </thead>\n",
       "  <tbody>\n",
       "    <tr>\n",
       "      <th>0</th>\n",
       "      <td>0.013603</td>\n",
       "      <td>44495.770</td>\n",
       "      <td>1</td>\n",
       "      <td>87475.55</td>\n",
       "      <td>627990.80</td>\n",
       "      <td>0.116438</td>\n",
       "      <td>0.889354</td>\n",
       "      <td>675246.25</td>\n",
       "      <td>-0.851387</td>\n",
       "      <td>2.042860</td>\n",
       "      <td>...</td>\n",
       "      <td>-0.906080</td>\n",
       "      <td>-1.876361</td>\n",
       "      <td>320104.62</td>\n",
       "      <td>495510.120</td>\n",
       "      <td>-1</td>\n",
       "      <td>-1.034808</td>\n",
       "      <td>-1.631069</td>\n",
       "      <td>312638.44</td>\n",
       "      <td>1063465.80</td>\n",
       "      <td>999999.56</td>\n",
       "    </tr>\n",
       "    <tr>\n",
       "      <th>1</th>\n",
       "      <td>0.242178</td>\n",
       "      <td>34441.156</td>\n",
       "      <td>1</td>\n",
       "      <td>90507.31</td>\n",
       "      <td>409780.94</td>\n",
       "      <td>0.191874</td>\n",
       "      <td>1.485706</td>\n",
       "      <td>604275.70</td>\n",
       "      <td>1.041311</td>\n",
       "      <td>-0.817613</td>\n",
       "      <td>...</td>\n",
       "      <td>2.363212</td>\n",
       "      <td>2.032987</td>\n",
       "      <td>288589.78</td>\n",
       "      <td>579769.560</td>\n",
       "      <td>1</td>\n",
       "      <td>2.178999</td>\n",
       "      <td>2.466579</td>\n",
       "      <td>129548.62</td>\n",
       "      <td>974210.75</td>\n",
       "      <td>1000003.60</td>\n",
       "    </tr>\n",
       "    <tr>\n",
       "      <th>2</th>\n",
       "      <td>0.096412</td>\n",
       "      <td>21625.379</td>\n",
       "      <td>0</td>\n",
       "      <td>89765.85</td>\n",
       "      <td>344668.30</td>\n",
       "      <td>0.122089</td>\n",
       "      <td>1.219367</td>\n",
       "      <td>612517.94</td>\n",
       "      <td>0.417858</td>\n",
       "      <td>-2.133300</td>\n",
       "      <td>...</td>\n",
       "      <td>1.217849</td>\n",
       "      <td>0.664946</td>\n",
       "      <td>228625.23</td>\n",
       "      <td>333899.970</td>\n",
       "      <td>-1</td>\n",
       "      <td>1.695172</td>\n",
       "      <td>0.920596</td>\n",
       "      <td>118590.28</td>\n",
       "      <td>996837.40</td>\n",
       "      <td>999999.80</td>\n",
       "    </tr>\n",
       "    <tr>\n",
       "      <th>3</th>\n",
       "      <td>0.096373</td>\n",
       "      <td>21855.973</td>\n",
       "      <td>1</td>\n",
       "      <td>92313.63</td>\n",
       "      <td>535629.06</td>\n",
       "      <td>0.061306</td>\n",
       "      <td>0.592705</td>\n",
       "      <td>482630.90</td>\n",
       "      <td>0.438590</td>\n",
       "      <td>2.701475</td>\n",
       "      <td>...</td>\n",
       "      <td>-0.045790</td>\n",
       "      <td>-0.626280</td>\n",
       "      <td>302502.84</td>\n",
       "      <td>243535.750</td>\n",
       "      <td>1</td>\n",
       "      <td>0.293053</td>\n",
       "      <td>-0.557273</td>\n",
       "      <td>233439.89</td>\n",
       "      <td>989655.56</td>\n",
       "      <td>1000008.80</td>\n",
       "    </tr>\n",
       "    <tr>\n",
       "      <th>4</th>\n",
       "      <td>0.073052</td>\n",
       "      <td>33677.380</td>\n",
       "      <td>1</td>\n",
       "      <td>89451.92</td>\n",
       "      <td>296257.47</td>\n",
       "      <td>0.159334</td>\n",
       "      <td>0.724910</td>\n",
       "      <td>459737.80</td>\n",
       "      <td>1.213717</td>\n",
       "      <td>-0.926707</td>\n",
       "      <td>...</td>\n",
       "      <td>-1.289961</td>\n",
       "      <td>2.238501</td>\n",
       "      <td>224785.02</td>\n",
       "      <td>98477.516</td>\n",
       "      <td>-1</td>\n",
       "      <td>-0.747040</td>\n",
       "      <td>2.647597</td>\n",
       "      <td>76205.98</td>\n",
       "      <td>993398.30</td>\n",
       "      <td>1000011.90</td>\n",
       "    </tr>\n",
       "  </tbody>\n",
       "</table>\n",
       "<p>5 rows × 24 columns</p>\n",
       "</div>"
      ],
      "text/plain": [
       "   FullEventWeight        MET  Topology  Zll_mass     Zll_pt  fatjet_C2  \\\n",
       "0         0.013603  44495.770         1  87475.55  627990.80   0.116438   \n",
       "1         0.242178  34441.156         1  90507.31  409780.94   0.191874   \n",
       "2         0.096412  21625.379         0  89765.85  344668.30   0.122089   \n",
       "3         0.096373  21855.973         1  92313.63  535629.06   0.061306   \n",
       "4         0.073052  33677.380         1  89451.92  296257.47   0.159334   \n",
       "\n",
       "   fatjet_D2   fatjet_E  fatjet_eta  fatjet_phi      ...        lep1_eta  \\\n",
       "0   0.889354  675246.25   -0.851387    2.042860      ...       -0.906080   \n",
       "1   1.485706  604275.70    1.041311   -0.817613      ...        2.363212   \n",
       "2   1.219367  612517.94    0.417858   -2.133300      ...        1.217849   \n",
       "3   0.592705  482630.90    0.438590    2.701475      ...       -0.045790   \n",
       "4   0.724910  459737.80    1.213717   -0.926707      ...       -1.289961   \n",
       "\n",
       "   lep1_phi    lep1_pt      lep2_E  lep2_charge  lep2_eta  lep2_phi  \\\n",
       "0 -1.876361  320104.62  495510.120           -1 -1.034808 -1.631069   \n",
       "1  2.032987  288589.78  579769.560            1  2.178999  2.466579   \n",
       "2  0.664946  228625.23  333899.970           -1  1.695172  0.920596   \n",
       "3 -0.626280  302502.84  243535.750            1  0.293053 -0.557273   \n",
       "4  2.238501  224785.02   98477.516           -1 -0.747040  2.647597   \n",
       "\n",
       "     lep2_pt  reco_zv_mass  truth_zv_mass  \n",
       "0  312638.44    1063465.80      999999.56  \n",
       "1  129548.62     974210.75     1000003.60  \n",
       "2  118590.28     996837.40      999999.80  \n",
       "3  233439.89     989655.56     1000008.80  \n",
       "4   76205.98     993398.30     1000011.90  \n",
       "\n",
       "[5 rows x 24 columns]"
      ]
     },
     "execution_count": 3,
     "metadata": {},
     "output_type": "execute_result"
    }
   ],
   "source": [
    "ggH1000 = pd.read_csv( \"./ggH1000.csv\", comment=\"#\")\n",
    "#ggH1000.rename(columns={}, inplace=True)\n",
    "ggH1000 = ggH1000.drop([\"Unnamed: 0\"], axis=1)\n",
    "ggH1000 = ggH1000.replace([np.inf, -np.inf], np.nan).dropna()\n",
    "ggH1000.head(5)"
   ]
  },
  {
   "cell_type": "code",
   "execution_count": 4,
   "metadata": {},
   "outputs": [
    {
     "data": {
      "text/html": [
       "<div>\n",
       "<style scoped>\n",
       "    .dataframe tbody tr th:only-of-type {\n",
       "        vertical-align: middle;\n",
       "    }\n",
       "\n",
       "    .dataframe tbody tr th {\n",
       "        vertical-align: top;\n",
       "    }\n",
       "\n",
       "    .dataframe thead th {\n",
       "        text-align: right;\n",
       "    }\n",
       "</style>\n",
       "<table border=\"1\" class=\"dataframe\">\n",
       "  <thead>\n",
       "    <tr style=\"text-align: right;\">\n",
       "      <th></th>\n",
       "      <th>FullEventWeight</th>\n",
       "      <th>MET</th>\n",
       "      <th>Topology</th>\n",
       "      <th>Zll_mass</th>\n",
       "      <th>Zll_pt</th>\n",
       "      <th>fatjet_C2</th>\n",
       "      <th>fatjet_D2</th>\n",
       "      <th>fatjet_E</th>\n",
       "      <th>fatjet_eta</th>\n",
       "      <th>fatjet_phi</th>\n",
       "      <th>...</th>\n",
       "      <th>lep1_eta</th>\n",
       "      <th>lep1_phi</th>\n",
       "      <th>lep1_pt</th>\n",
       "      <th>lep2_E</th>\n",
       "      <th>lep2_charge</th>\n",
       "      <th>lep2_eta</th>\n",
       "      <th>lep2_phi</th>\n",
       "      <th>lep2_pt</th>\n",
       "      <th>reco_zv_mass</th>\n",
       "      <th>truth_zv_mass</th>\n",
       "    </tr>\n",
       "  </thead>\n",
       "  <tbody>\n",
       "    <tr>\n",
       "      <th>0</th>\n",
       "      <td>2.004522e-09</td>\n",
       "      <td>51609.760</td>\n",
       "      <td>1</td>\n",
       "      <td>35253.492</td>\n",
       "      <td>35612.324</td>\n",
       "      <td>0.109581</td>\n",
       "      <td>1.435712</td>\n",
       "      <td>461309.30</td>\n",
       "      <td>-1.195378</td>\n",
       "      <td>2.909157</td>\n",
       "      <td>...</td>\n",
       "      <td>0.164823</td>\n",
       "      <td>1.042926</td>\n",
       "      <td>38513.980</td>\n",
       "      <td>11072.072</td>\n",
       "      <td>1</td>\n",
       "      <td>-0.665443</td>\n",
       "      <td>-0.969063</td>\n",
       "      <td>9003.888</td>\n",
       "      <td>245723.92</td>\n",
       "      <td>-1.0</td>\n",
       "    </tr>\n",
       "    <tr>\n",
       "      <th>1</th>\n",
       "      <td>1.822626e-09</td>\n",
       "      <td>225038.800</td>\n",
       "      <td>1</td>\n",
       "      <td>20311.205</td>\n",
       "      <td>38644.793</td>\n",
       "      <td>0.090346</td>\n",
       "      <td>2.403266</td>\n",
       "      <td>276659.70</td>\n",
       "      <td>0.387434</td>\n",
       "      <td>3.050592</td>\n",
       "      <td>...</td>\n",
       "      <td>-1.871251</td>\n",
       "      <td>0.601309</td>\n",
       "      <td>34191.734</td>\n",
       "      <td>34626.312</td>\n",
       "      <td>1</td>\n",
       "      <td>-1.975266</td>\n",
       "      <td>1.798074</td>\n",
       "      <td>9425.637</td>\n",
       "      <td>351938.88</td>\n",
       "      <td>-1.0</td>\n",
       "    </tr>\n",
       "    <tr>\n",
       "      <th>2</th>\n",
       "      <td>1.552981e-09</td>\n",
       "      <td>27090.697</td>\n",
       "      <td>1</td>\n",
       "      <td>134715.500</td>\n",
       "      <td>244261.840</td>\n",
       "      <td>0.212569</td>\n",
       "      <td>1.336584</td>\n",
       "      <td>900965.50</td>\n",
       "      <td>-1.822714</td>\n",
       "      <td>-0.619062</td>\n",
       "      <td>...</td>\n",
       "      <td>0.701193</td>\n",
       "      <td>2.446600</td>\n",
       "      <td>254871.310</td>\n",
       "      <td>17551.730</td>\n",
       "      <td>-1</td>\n",
       "      <td>-0.196344</td>\n",
       "      <td>0.185058</td>\n",
       "      <td>17218.764</td>\n",
       "      <td>1046120.90</td>\n",
       "      <td>-1.0</td>\n",
       "    </tr>\n",
       "    <tr>\n",
       "      <th>3</th>\n",
       "      <td>1.660535e-09</td>\n",
       "      <td>57572.890</td>\n",
       "      <td>0</td>\n",
       "      <td>69086.836</td>\n",
       "      <td>90045.625</td>\n",
       "      <td>0.133918</td>\n",
       "      <td>1.780693</td>\n",
       "      <td>596016.20</td>\n",
       "      <td>-1.725750</td>\n",
       "      <td>-2.554189</td>\n",
       "      <td>...</td>\n",
       "      <td>-2.305750</td>\n",
       "      <td>0.627527</td>\n",
       "      <td>84608.050</td>\n",
       "      <td>10652.912</td>\n",
       "      <td>1</td>\n",
       "      <td>-0.413642</td>\n",
       "      <td>1.657720</td>\n",
       "      <td>9801.820</td>\n",
       "      <td>301995.70</td>\n",
       "      <td>-1.0</td>\n",
       "    </tr>\n",
       "    <tr>\n",
       "      <th>4</th>\n",
       "      <td>1.461494e-09</td>\n",
       "      <td>123177.900</td>\n",
       "      <td>0</td>\n",
       "      <td>51731.508</td>\n",
       "      <td>52780.684</td>\n",
       "      <td>0.101556</td>\n",
       "      <td>3.398984</td>\n",
       "      <td>590811.44</td>\n",
       "      <td>1.477704</td>\n",
       "      <td>1.432744</td>\n",
       "      <td>...</td>\n",
       "      <td>-0.685020</td>\n",
       "      <td>-2.360906</td>\n",
       "      <td>50720.953</td>\n",
       "      <td>15453.791</td>\n",
       "      <td>-1</td>\n",
       "      <td>0.880629</td>\n",
       "      <td>2.436030</td>\n",
       "      <td>10932.975</td>\n",
       "      <td>376986.28</td>\n",
       "      <td>-1.0</td>\n",
       "    </tr>\n",
       "  </tbody>\n",
       "</table>\n",
       "<p>5 rows × 24 columns</p>\n",
       "</div>"
      ],
      "text/plain": [
       "   FullEventWeight         MET  Topology    Zll_mass      Zll_pt  fatjet_C2  \\\n",
       "0     2.004522e-09   51609.760         1   35253.492   35612.324   0.109581   \n",
       "1     1.822626e-09  225038.800         1   20311.205   38644.793   0.090346   \n",
       "2     1.552981e-09   27090.697         1  134715.500  244261.840   0.212569   \n",
       "3     1.660535e-09   57572.890         0   69086.836   90045.625   0.133918   \n",
       "4     1.461494e-09  123177.900         0   51731.508   52780.684   0.101556   \n",
       "\n",
       "   fatjet_D2   fatjet_E  fatjet_eta  fatjet_phi      ...        lep1_eta  \\\n",
       "0   1.435712  461309.30   -1.195378    2.909157      ...        0.164823   \n",
       "1   2.403266  276659.70    0.387434    3.050592      ...       -1.871251   \n",
       "2   1.336584  900965.50   -1.822714   -0.619062      ...        0.701193   \n",
       "3   1.780693  596016.20   -1.725750   -2.554189      ...       -2.305750   \n",
       "4   3.398984  590811.44    1.477704    1.432744      ...       -0.685020   \n",
       "\n",
       "   lep1_phi     lep1_pt     lep2_E  lep2_charge  lep2_eta  lep2_phi  \\\n",
       "0  1.042926   38513.980  11072.072            1 -0.665443 -0.969063   \n",
       "1  0.601309   34191.734  34626.312            1 -1.975266  1.798074   \n",
       "2  2.446600  254871.310  17551.730           -1 -0.196344  0.185058   \n",
       "3  0.627527   84608.050  10652.912            1 -0.413642  1.657720   \n",
       "4 -2.360906   50720.953  15453.791           -1  0.880629  2.436030   \n",
       "\n",
       "     lep2_pt  reco_zv_mass  truth_zv_mass  \n",
       "0   9003.888     245723.92           -1.0  \n",
       "1   9425.637     351938.88           -1.0  \n",
       "2  17218.764    1046120.90           -1.0  \n",
       "3   9801.820     301995.70           -1.0  \n",
       "4  10932.975     376986.28           -1.0  \n",
       "\n",
       "[5 rows x 24 columns]"
      ]
     },
     "execution_count": 4,
     "metadata": {},
     "output_type": "execute_result"
    }
   ],
   "source": [
    "Top = pd.read_csv( \"./Top.csv\", comment=\"#\")\n",
    "#Top.rename(columns={}, inplace=True)\n",
    "Top = Top.drop([\"Unnamed: 0\"], axis=1)\n",
    "Top = Top.replace([np.inf, -np.inf], np.nan).dropna()\n",
    "Top.head(5)"
   ]
  },
  {
   "cell_type": "code",
   "execution_count": 5,
   "metadata": {
    "scrolled": true
   },
   "outputs": [
    {
     "data": {
      "text/html": [
       "<div>\n",
       "<style scoped>\n",
       "    .dataframe tbody tr th:only-of-type {\n",
       "        vertical-align: middle;\n",
       "    }\n",
       "\n",
       "    .dataframe tbody tr th {\n",
       "        vertical-align: top;\n",
       "    }\n",
       "\n",
       "    .dataframe thead th {\n",
       "        text-align: right;\n",
       "    }\n",
       "</style>\n",
       "<table border=\"1\" class=\"dataframe\">\n",
       "  <thead>\n",
       "    <tr style=\"text-align: right;\">\n",
       "      <th></th>\n",
       "      <th>FullEventWeight</th>\n",
       "      <th>MET</th>\n",
       "      <th>Topology</th>\n",
       "      <th>Zll_mass</th>\n",
       "      <th>Zll_pt</th>\n",
       "      <th>fatjet_C2</th>\n",
       "      <th>fatjet_D2</th>\n",
       "      <th>fatjet_E</th>\n",
       "      <th>fatjet_eta</th>\n",
       "      <th>fatjet_phi</th>\n",
       "      <th>...</th>\n",
       "      <th>lep1_eta</th>\n",
       "      <th>lep1_phi</th>\n",
       "      <th>lep1_pt</th>\n",
       "      <th>lep2_E</th>\n",
       "      <th>lep2_charge</th>\n",
       "      <th>lep2_eta</th>\n",
       "      <th>lep2_phi</th>\n",
       "      <th>lep2_pt</th>\n",
       "      <th>reco_zv_mass</th>\n",
       "      <th>truth_zv_mass</th>\n",
       "    </tr>\n",
       "  </thead>\n",
       "  <tbody>\n",
       "    <tr>\n",
       "      <th>0</th>\n",
       "      <td>-0.790471</td>\n",
       "      <td>177227.420</td>\n",
       "      <td>1</td>\n",
       "      <td>95697.766</td>\n",
       "      <td>64252.690</td>\n",
       "      <td>0.097862</td>\n",
       "      <td>1.895164</td>\n",
       "      <td>425871.88</td>\n",
       "      <td>-1.329446</td>\n",
       "      <td>-0.485957</td>\n",
       "      <td>...</td>\n",
       "      <td>1.782276</td>\n",
       "      <td>-1.057460</td>\n",
       "      <td>76128.370</td>\n",
       "      <td>12476.566</td>\n",
       "      <td>1</td>\n",
       "      <td>-0.289019</td>\n",
       "      <td>1.966965</td>\n",
       "      <td>11973.011</td>\n",
       "      <td>596020.44</td>\n",
       "      <td>-1.0</td>\n",
       "    </tr>\n",
       "    <tr>\n",
       "      <th>1</th>\n",
       "      <td>0.789204</td>\n",
       "      <td>10660.757</td>\n",
       "      <td>1</td>\n",
       "      <td>90289.914</td>\n",
       "      <td>32506.705</td>\n",
       "      <td>0.000000</td>\n",
       "      <td>0.000000</td>\n",
       "      <td>247948.36</td>\n",
       "      <td>-0.429050</td>\n",
       "      <td>2.770810</td>\n",
       "      <td>...</td>\n",
       "      <td>-0.918399</td>\n",
       "      <td>-1.229385</td>\n",
       "      <td>40799.945</td>\n",
       "      <td>38147.754</td>\n",
       "      <td>1</td>\n",
       "      <td>0.847265</td>\n",
       "      <td>0.995251</td>\n",
       "      <td>27624.867</td>\n",
       "      <td>260357.19</td>\n",
       "      <td>-1.0</td>\n",
       "    </tr>\n",
       "    <tr>\n",
       "      <th>2</th>\n",
       "      <td>-0.872639</td>\n",
       "      <td>655334.400</td>\n",
       "      <td>1</td>\n",
       "      <td>92994.430</td>\n",
       "      <td>55287.625</td>\n",
       "      <td>0.059006</td>\n",
       "      <td>2.463149</td>\n",
       "      <td>630492.94</td>\n",
       "      <td>-0.543789</td>\n",
       "      <td>-2.190247</td>\n",
       "      <td>...</td>\n",
       "      <td>-1.091297</td>\n",
       "      <td>0.865696</td>\n",
       "      <td>57988.660</td>\n",
       "      <td>29768.775</td>\n",
       "      <td>1</td>\n",
       "      <td>0.440004</td>\n",
       "      <td>-1.042492</td>\n",
       "      <td>27102.590</td>\n",
       "      <td>422698.44</td>\n",
       "      <td>-1.0</td>\n",
       "    </tr>\n",
       "    <tr>\n",
       "      <th>3</th>\n",
       "      <td>-0.772697</td>\n",
       "      <td>41489.973</td>\n",
       "      <td>1</td>\n",
       "      <td>89607.580</td>\n",
       "      <td>63405.484</td>\n",
       "      <td>0.265080</td>\n",
       "      <td>2.081222</td>\n",
       "      <td>610611.56</td>\n",
       "      <td>1.776149</td>\n",
       "      <td>-0.214862</td>\n",
       "      <td>...</td>\n",
       "      <td>1.238367</td>\n",
       "      <td>2.127853</td>\n",
       "      <td>55424.742</td>\n",
       "      <td>69817.470</td>\n",
       "      <td>1</td>\n",
       "      <td>0.809497</td>\n",
       "      <td>-2.276664</td>\n",
       "      <td>51873.030</td>\n",
       "      <td>302718.06</td>\n",
       "      <td>-1.0</td>\n",
       "    </tr>\n",
       "    <tr>\n",
       "      <th>4</th>\n",
       "      <td>1.581337</td>\n",
       "      <td>41731.630</td>\n",
       "      <td>1</td>\n",
       "      <td>90199.480</td>\n",
       "      <td>47187.332</td>\n",
       "      <td>0.093765</td>\n",
       "      <td>2.321676</td>\n",
       "      <td>781746.90</td>\n",
       "      <td>-1.524169</td>\n",
       "      <td>-1.101946</td>\n",
       "      <td>...</td>\n",
       "      <td>-0.116431</td>\n",
       "      <td>1.745413</td>\n",
       "      <td>68312.220</td>\n",
       "      <td>33509.810</td>\n",
       "      <td>1</td>\n",
       "      <td>0.598434</td>\n",
       "      <td>-1.972788</td>\n",
       "      <td>28290.979</td>\n",
       "      <td>461896.25</td>\n",
       "      <td>-1.0</td>\n",
       "    </tr>\n",
       "  </tbody>\n",
       "</table>\n",
       "<p>5 rows × 24 columns</p>\n",
       "</div>"
      ],
      "text/plain": [
       "   FullEventWeight         MET  Topology   Zll_mass     Zll_pt  fatjet_C2  \\\n",
       "0        -0.790471  177227.420         1  95697.766  64252.690   0.097862   \n",
       "1         0.789204   10660.757         1  90289.914  32506.705   0.000000   \n",
       "2        -0.872639  655334.400         1  92994.430  55287.625   0.059006   \n",
       "3        -0.772697   41489.973         1  89607.580  63405.484   0.265080   \n",
       "4         1.581337   41731.630         1  90199.480  47187.332   0.093765   \n",
       "\n",
       "   fatjet_D2   fatjet_E  fatjet_eta  fatjet_phi      ...        lep1_eta  \\\n",
       "0   1.895164  425871.88   -1.329446   -0.485957      ...        1.782276   \n",
       "1   0.000000  247948.36   -0.429050    2.770810      ...       -0.918399   \n",
       "2   2.463149  630492.94   -0.543789   -2.190247      ...       -1.091297   \n",
       "3   2.081222  610611.56    1.776149   -0.214862      ...        1.238367   \n",
       "4   2.321676  781746.90   -1.524169   -1.101946      ...       -0.116431   \n",
       "\n",
       "   lep1_phi    lep1_pt     lep2_E  lep2_charge  lep2_eta  lep2_phi    lep2_pt  \\\n",
       "0 -1.057460  76128.370  12476.566            1 -0.289019  1.966965  11973.011   \n",
       "1 -1.229385  40799.945  38147.754            1  0.847265  0.995251  27624.867   \n",
       "2  0.865696  57988.660  29768.775            1  0.440004 -1.042492  27102.590   \n",
       "3  2.127853  55424.742  69817.470            1  0.809497 -2.276664  51873.030   \n",
       "4  1.745413  68312.220  33509.810            1  0.598434 -1.972788  28290.979   \n",
       "\n",
       "   reco_zv_mass  truth_zv_mass  \n",
       "0     596020.44           -1.0  \n",
       "1     260357.19           -1.0  \n",
       "2     422698.44           -1.0  \n",
       "3     302718.06           -1.0  \n",
       "4     461896.25           -1.0  \n",
       "\n",
       "[5 rows x 24 columns]"
      ]
     },
     "execution_count": 5,
     "metadata": {},
     "output_type": "execute_result"
    }
   ],
   "source": [
    "Zjets = pd.read_csv( \"./Zjets.csv\", comment=\"#\")\n",
    "#Zjets.rename(columns={}, inplace=True)\n",
    "Zjets = Zjets.drop([\"Unnamed: 0\"], axis=1)\n",
    "Zjets = Zjets.replace([np.inf, -np.inf], np.nan).dropna()\n",
    "Zjets.head(5)"
   ]
  },
  {
   "cell_type": "markdown",
   "metadata": {},
   "source": [
    "This plots the distributions of the variables (as defined in subset) for each dataset on the same plot. They are slightly translucent to allow all distributions to be seen through each other to see trends. This allows me to continue to the next part, to place kinematic cuts on the data."
   ]
  },
  {
   "cell_type": "code",
   "execution_count": 6,
   "metadata": {},
   "outputs": [
    {
     "data": {
      "image/png": "[encoded data removed]",
      "text/plain": [
       "<Figure size 432x288 with 1 Axes>"
      ]
     },
     "metadata": {
      "needs_background": "light"
     },
     "output_type": "display_data"
    },
    {
     "data": {
      "image/png": "[encoded data removed]",
      "text/plain": [
       "<Figure size 432x288 with 1 Axes>"
      ]
     },
     "metadata": {
      "needs_background": "light"
     },
     "output_type": "display_data"
    },
    {
     "data": {
      "image/png": "[encoded data removed]",
      "text/plain": [
       "<Figure size 432x288 with 1 Axes>"
      ]
     },
     "metadata": {
      "needs_background": "light"
     },
     "output_type": "display_data"
    },
    {
     "data": {
      "image/png": "[encoded data removed]",
      "text/plain": [
       "<Figure size 432x288 with 1 Axes>"
      ]
     },
     "metadata": {
      "needs_background": "light"
     },
     "output_type": "display_data"
    },
    {
     "data": {
      "image/png": "[encoded data removed]",
      "text/plain": [
       "<Figure size 432x288 with 1 Axes>"
      ]
     },
     "metadata": {
      "needs_background": "light"
     },
     "output_type": "display_data"
    },
    {
     "data": {
      "image/png": "[encoded data removed]",
      "text/plain": [
       "<Figure size 432x288 with 1 Axes>"
      ]
     },
     "metadata": {
      "needs_background": "light"
     },
     "output_type": "display_data"
    },
    {
     "data": {
      "image/png": "[encoded data removed]",
      "text/plain": [
       "<Figure size 432x288 with 1 Axes>"
      ]
     },
     "metadata": {
      "needs_background": "light"
     },
     "output_type": "display_data"
    },
    {
     "data": {
      "image/png": "[encoded data removed]",
      "text/plain": [
       "<Figure size 432x288 with 1 Axes>"
      ]
     },
     "metadata": {
      "needs_background": "light"
     },
     "output_type": "display_data"
    },
    {
     "data": {
      "image/png": "[encoded data removed]",
      "text/plain": [
       "<Figure size 432x288 with 1 Axes>"
      ]
     },
     "metadata": {
      "needs_background": "light"
     },
     "output_type": "display_data"
    }
   ],
   "source": [
    "subset=[\"lep1_pt\",\"lep2_pt\",\"fatjet_pt\",\"fatjet_eta\",\"fatjet_D2\",\"Zll_mass\",\"Zll_pt\",\"MET\",\"reco_zv_mass\"]\n",
    "\n",
    "\n",
    "for index in subset:\n",
    "    plt.subplot(1,1,1)\n",
    "    bins = np.linspace((min(ggH1000[index])),(max(ggH1000[index])),100, endpoint=True)\n",
    "    plt.hist(Diboson[index],color=\"b\",density=True, alpha=0.3, label='Diboson',bins=bins)\n",
    "    plt.hist(Top[index],color=\"y\",density=True, alpha=0.3, label='Top',bins=bins)\n",
    "    plt.hist(ggH1000[index],color=\"g\",density=True, alpha=0.3, label='ggH1000',bins=bins)\n",
    "    plt.hist(Zjets[index],color=\"r\",density=True, alpha=0.3, label='Zjets',bins=bins)\n",
    "    plt.xlim((min(ggH1000[index]),(max(ggH1000[index]))))\n",
    "    plt.yscale(\"log\")\n",
    "    plt.title(index)\n",
    "    plt.legend(loc='upper right')\n",
    "    plt.show()"
   ]
  },
  {
   "cell_type": "markdown",
   "metadata": {},
   "source": [
    "Now kinematic cuts are made based on the histogram plots above. I didn't cut below the signal, as it made the signal harder to see when plotting the cut data histograms. However, I didn't go as far as to check within the range 800000-1400000 with cuts on both sides applied so it is possible it would have been fine. I cut all the variables apart from 'reco_zv_mass' and 'isSignal' (the target features). I set new dataframes from the original to make the cuts so I didn't ruin my original data, else I would have to import from the file again."
   ]
  },
  {
   "cell_type": "code",
   "execution_count": 7,
   "metadata": {},
   "outputs": [],
   "source": [
    "subsetofinterest=[\"lep1_pt\",\"lep2_pt\",\"fatjet_pt\",\"fatjet_eta\",\"fatjet_D2\",\"Zll_mass\",\"Zll_pt\",\"MET\"]\n",
    "subsettotal=[\"lep1_pt\",\"lep2_pt\",\"fatjet_pt\",\"fatjet_eta\",\"fatjet_D2\",\"Zll_mass\",\"Zll_pt\",\"MET\",\"reco_zv_mass\",\"isSignal\",\"FullEventWeight\"]\n",
    "\n",
    "precutDiboson=Diboson[subsettotal]\n",
    "precutTop=Top[subsettotal]\n",
    "precutggH1000=ggH1000[subsettotal]\n",
    "precutZjets=Zjets[subsettotal]\n",
    "\n",
    "cutDiboson = precutDiboson\n",
    "cutDiboson = cutDiboson[cutDiboson[\"lep1_pt\"] < 600000]\n",
    "cutDiboson = cutDiboson[cutDiboson[\"lep2_pt\"] < 300000]\n",
    "cutDiboson = cutDiboson[cutDiboson['fatjet_pt'] < 600000]\n",
    "cutDiboson = cutDiboson[(cutDiboson['fatjet_eta'] < 1.0) & (cutDiboson['fatjet_eta'] > -1.0)]\n",
    "cutDiboson = cutDiboson[cutDiboson['fatjet_D2'] < 10]\n",
    "cutDiboson = cutDiboson[cutDiboson['Zll_mass'] < 150000]\n",
    "cutDiboson = cutDiboson[cutDiboson['Zll_pt'] < 800000]\n",
    "cutDiboson = cutDiboson[cutDiboson['MET'] < 400000]\n",
    "\n",
    "cutTop = precutTop\n",
    "cutTop = cutTop[cutTop['lep1_pt'] < 600000]\n",
    "cutTop = cutTop[cutTop['lep2_pt'] < 300000]\n",
    "cutTop = cutTop[cutTop['fatjet_pt'] < 600000]\n",
    "cutTop = cutTop[(cutTop['fatjet_eta'] < 1.0) & (cutTop['fatjet_eta'] > -1.0)]\n",
    "cutTop = cutTop[cutTop['fatjet_D2'] < 10]\n",
    "cutTop = cutTop[cutTop['Zll_mass'] < 150000]\n",
    "cutTop = cutTop[cutTop['Zll_pt'] < 800000]\n",
    "cutTop = cutTop[cutTop['MET'] < 400000]\n",
    "\n",
    "cutggH1000 = precutggH1000\n",
    "cutggH1000 = cutggH1000[cutggH1000['lep1_pt'] < 600000]\n",
    "cutggH1000 = cutggH1000[cutggH1000['lep2_pt'] < 300000]\n",
    "cutggH1000 = cutggH1000[cutggH1000['fatjet_pt'] < 600000]\n",
    "cutggH1000 = cutggH1000[(cutggH1000['fatjet_eta'] < 1.0) & (cutggH1000['fatjet_eta'] > -1.0)]\n",
    "cutggH1000 = cutggH1000[cutggH1000['fatjet_D2'] < 10] \n",
    "cutggH1000 = cutggH1000[cutggH1000['Zll_mass'] < 150000] \n",
    "cutggH1000 = cutggH1000[cutggH1000['Zll_pt'] < 800000] \n",
    "cutggH1000 = cutggH1000[cutggH1000['MET'] < 400000]\n",
    "\n",
    "cutZjets = precutZjets\n",
    "cutZjets = cutZjets[cutZjets['lep1_pt'] < 600000]\n",
    "cutZjets = cutZjets[cutZjets['lep2_pt'] < 300000]\n",
    "cutZjets = cutZjets[cutZjets['fatjet_pt'] < 600000]\n",
    "cutZjets = cutZjets[(cutZjets['fatjet_eta'] < 1.0) & (cutZjets['fatjet_eta'] > -1.0)]\n",
    "cutZjets = cutZjets[cutZjets['fatjet_D2'] < 10]\n",
    "cutZjets = cutZjets[cutZjets['Zll_mass'] < 150000]\n",
    "cutZjets = cutZjets[cutZjets['Zll_pt'] < 800000]\n",
    "cutZjets = cutZjets[cutZjets['MET'] < 400000]"
   ]
  },
  {
   "cell_type": "markdown",
   "metadata": {},
   "source": [
    "Same as before, just plotting the features for each dataset against each other for the *CUT* dataset, I left the axis the same to make the cuts more obvious inspection when comparing to the previous graphs."
   ]
  },
  {
   "cell_type": "code",
   "execution_count": 8,
   "metadata": {
    "scrolled": true
   },
   "outputs": [
    {
     "data": {
      "image/png": "[encoded data removed]",
      "text/plain": [
       "<Figure size 432x288 with 1 Axes>"
      ]
     },
     "metadata": {
      "needs_background": "light"
     },
     "output_type": "display_data"
    },
    {
     "data": {
      "image/png": "[encoded data removed]",
      "text/plain": [
       "<Figure size 432x288 with 1 Axes>"
      ]
     },
     "metadata": {
      "needs_background": "light"
     },
     "output_type": "display_data"
    },
    {
     "data": {
      "image/png": "[encoded data removed]",
      "text/plain": [
       "<Figure size 432x288 with 1 Axes>"
      ]
     },
     "metadata": {
      "needs_background": "light"
     },
     "output_type": "display_data"
    },
    {
     "data": {
      "image/png": "[encoded data removed]",
      "text/plain": [
       "<Figure size 432x288 with 1 Axes>"
      ]
     },
     "metadata": {
      "needs_background": "light"
     },
     "output_type": "display_data"
    },
    {
     "data": {
      "image/png": "[encoded data removed]",
      "text/plain": [
       "<Figure size 432x288 with 1 Axes>"
      ]
     },
     "metadata": {
      "needs_background": "light"
     },
     "output_type": "display_data"
    },
    {
     "data": {
      "image/png": "[encoded data removed]",
      "text/plain": [
       "<Figure size 432x288 with 1 Axes>"
      ]
     },
     "metadata": {
      "needs_background": "light"
     },
     "output_type": "display_data"
    },
    {
     "data": {
      "image/png": "[encoded data removed]",
      "text/plain": [
       "<Figure size 432x288 with 1 Axes>"
      ]
     },
     "metadata": {
      "needs_background": "light"
     },
     "output_type": "display_data"
    },
    {
     "data": {
      "image/png": "[encoded data removed]",
      "text/plain": [
       "<Figure size 432x288 with 1 Axes>"
      ]
     },
     "metadata": {
      "needs_background": "light"
     },
     "output_type": "display_data"
    },
    {
     "data": {
      "image/png": "[encoded data removed]",
      "text/plain": [
       "<Figure size 432x288 with 1 Axes>"
      ]
     },
     "metadata": {
      "needs_background": "light"
     },
     "output_type": "display_data"
    }
   ],
   "source": [
    "subset=[\"lep1_pt\",\"lep2_pt\",\"fatjet_pt\",\"fatjet_eta\",\"fatjet_D2\",\"Zll_mass\",\"Zll_pt\",\"MET\",\"reco_zv_mass\"]\n",
    "\n",
    "\n",
    "for index in subset:\n",
    "    plt.subplot(1,1,1)\n",
    "    bins = np.linspace((min(ggH1000[index])),(max(ggH1000[index])),100, endpoint=True)\n",
    "    plt.hist(cutDiboson[index],color=\"b\",density=True, alpha=0.3, label='Diboson',bins=bins)\n",
    "    plt.hist(cutTop[index],color=\"y\",density=True, alpha=0.3, label='Top',bins=bins)\n",
    "    plt.hist(cutggH1000[index],color=\"g\",density=True, alpha=0.3, label='ggH1000',bins=bins)\n",
    "    plt.hist(cutZjets[index],color=\"r\",density=True, alpha=0.3, label='Zjets',bins=bins)\n",
    "    plt.xlim((min(ggH1000[index]),(max(ggH1000[index]))))\n",
    "    plt.yscale(\"log\")\n",
    "    plt.title(index)\n",
    "    plt.legend(loc='upper right')\n",
    "    plt.show()"
   ]
  },
  {
   "cell_type": "markdown",
   "metadata": {},
   "source": [
    "# BEFORE CUTS"
   ]
  },
  {
   "cell_type": "markdown",
   "metadata": {},
   "source": [
    "I tried to use $frac=0.5$ in the sample technique below but the signal was still below the background, the best (largest value whilst not reducing background to a point where the overall trend was ruined) value for the sample fraction was 0.01, or 1% of the data we had on the background. This was made more difficult by the fact that I used normalised datasets in the previous plots."
   ]
  },
  {
   "cell_type": "code",
   "execution_count": 9,
   "metadata": {},
   "outputs": [],
   "source": [
    "scaledDiboson = Diboson.sample(frac=0.01)\n",
    "scaledTop = Top.sample(frac=0.01)\n",
    "scaledZjets = Zjets.sample(frac=0.01)"
   ]
  },
  {
   "cell_type": "code",
   "execution_count": 10,
   "metadata": {},
   "outputs": [
    {
     "data": {
      "image/png": "[encoded data removed]",
      "text/plain": [
       "<Figure size 432x288 with 1 Axes>"
      ]
     },
     "metadata": {
      "needs_background": "light"
     },
     "output_type": "display_data"
    }
   ],
   "source": [
    "integrated_subset=[\"reco_zv_mass\"]\n",
    "\n",
    "for index in integrated_subset:\n",
    "    plt.subplot(1,1,1)\n",
    "    bins = np.linspace((min(ggH1000[index])),(max(ggH1000[index])),100, endpoint=True)\n",
    "    plt.hist(scaledDiboson[index],color=\"b\", alpha=0.3, label='Diboson',bins=bins)\n",
    "    plt.hist(scaledTop[index],color=\"y\", alpha=0.3, label='Top',bins=bins)\n",
    "    plt.hist(ggH1000[index],color=\"g\", alpha=0.3, label='ggH1000',bins=bins)\n",
    "    plt.hist(scaledZjets[index],color=\"r\", alpha=0.3, label='Zjets',bins=bins)\n",
    "    plt.xlim((min(ggH1000[index]),(max(ggH1000[index]))))\n",
    "    plt.yscale(\"log\")\n",
    "    plt.title(index)\n",
    "    plt.legend(loc='upper right')\n",
    "    plt.show()"
   ]
  },
  {
   "cell_type": "code",
   "execution_count": 11,
   "metadata": {},
   "outputs": [
    {
     "data": {
      "text/plain": [
       "57826.77507161611"
      ]
     },
     "execution_count": 11,
     "metadata": {},
     "output_type": "execute_result"
    }
   ],
   "source": [
    "hist1, bin_edges1 = np.histogram(scaledDiboson[\"reco_zv_mass\"], weights=scaledDiboson[\"FullEventWeight\"])\n",
    "hist2, bin_edges2 = np.histogram(scaledTop[\"reco_zv_mass\"], weights=scaledTop[\"FullEventWeight\"])\n",
    "hist3, bin_edges3 = np.histogram(ggH1000[\"reco_zv_mass\"], weights=ggH1000[\"FullEventWeight\"])\n",
    "hist4, bin_edges4 = np.histogram(scaledZjets[\"reco_zv_mass\"], weights=scaledZjets[\"FullEventWeight\"])\n",
    "\n",
    "events = np.sum(hist1) + np.sum(hist2) + np.sum(hist3) + np.sum(hist4)\n",
    "events"
   ]
  },
  {
   "cell_type": "markdown",
   "metadata": {},
   "source": [
    "# AFTER CUTS"
   ]
  },
  {
   "cell_type": "markdown",
   "metadata": {},
   "source": [
    "As before the cuts, the same frac had to be used in order to be able to compare the results. After the cuts, the x-axis is obviously more compacted, but interestingly, the trend is now much more difficult to discern for the seperate backgrounds, probably due to the random sampling from a much lower number of entries and hence much lower number of events."
   ]
  },
  {
   "cell_type": "code",
   "execution_count": 12,
   "metadata": {},
   "outputs": [],
   "source": [
    "scaledcutDiboson = cutDiboson.sample(frac=0.01)\n",
    "scaledcutTop = cutTop.sample(frac=0.01)\n",
    "scaledcutZjets = cutZjets.sample(frac=0.01)"
   ]
  },
  {
   "cell_type": "code",
   "execution_count": 13,
   "metadata": {},
   "outputs": [
    {
     "data": {
      "image/png": "[encoded data removed]",
      "text/plain": [
       "<Figure size 432x288 with 1 Axes>"
      ]
     },
     "metadata": {
      "needs_background": "light"
     },
     "output_type": "display_data"
    }
   ],
   "source": [
    "for index in integrated_subset:\n",
    "    plt.subplot(1,1,1)\n",
    "    bins = np.linspace((min(ggH1000[index])),(max(ggH1000[index])),100, endpoint=True)\n",
    "    plt.hist(scaledcutDiboson[index],color=\"b\", alpha=0.3, label='Diboson',bins=bins, weights=scaledcutDiboson[\"FullEventWeight\"])\n",
    "    plt.hist(scaledcutTop[index],color=\"y\", alpha=0.3, label='Top',bins=bins, weights=scaledcutTop[\"FullEventWeight\"])\n",
    "    plt.hist(cutggH1000[index],color=\"g\", alpha=0.3, label='ggH1000',bins=bins, weights=cutggH1000[\"FullEventWeight\"])\n",
    "    plt.hist(scaledcutZjets[index],color=\"r\", alpha=0.3, label='Zjets',bins=bins, weights=scaledcutZjets[\"FullEventWeight\"])\n",
    "    plt.xlim((min(ggH1000[index]),(max(ggH1000[index]))))\n",
    "    plt.yscale(\"log\")\n",
    "    plt.title(index)\n",
    "    plt.xticks(rotation='vertical')\n",
    "    plt.legend(loc='upper right')\n",
    "    plt.show()"
   ]
  },
  {
   "cell_type": "code",
   "execution_count": 14,
   "metadata": {
    "scrolled": true
   },
   "outputs": [
    {
     "data": {
      "text/plain": [
       "31561.517183550037"
      ]
     },
     "execution_count": 14,
     "metadata": {},
     "output_type": "execute_result"
    }
   ],
   "source": [
    "hist1, bin_edges1 = np.histogram(scaledcutDiboson[index], weights=scaledcutDiboson[\"FullEventWeight\"])\n",
    "hist2, bin_edges2 = np.histogram(scaledcutTop[index], weights=scaledcutTop[\"FullEventWeight\"])\n",
    "hist3, bin_edges3 = np.histogram(cutggH1000[index], weights=cutggH1000[\"FullEventWeight\"])\n",
    "hist4, bin_edges4 = np.histogram(scaledcutZjets[index], weights=scaledcutZjets[\"FullEventWeight\"])\n",
    "\n",
    "cutevents = np.sum(hist1) + np.sum(hist2) + np.sum(hist3) + np.sum(hist4)\n",
    "cutevents"
   ]
  },
  {
   "cell_type": "markdown",
   "metadata": {},
   "source": [
    "This value below shows the difference between the number of events (so the entry from the dataframe using its full event weight), the difference between the number of events before kinematic cuts and after seems to be staggering, although this is due to the scaling of the background in order to see a signal. "
   ]
  },
  {
   "cell_type": "code",
   "execution_count": 15,
   "metadata": {},
   "outputs": [
    {
     "data": {
      "text/plain": [
       "26265.257888066073"
      ]
     },
     "execution_count": 15,
     "metadata": {},
     "output_type": "execute_result"
    }
   ],
   "source": [
    "events - cutevents"
   ]
  },
  {
   "cell_type": "markdown",
   "metadata": {},
   "source": [
    "This was an even more interesting indicator of how much the kinematic cuts took out, kinematic cuts meant that the background signal total was very close the signal total considering the amount of data we started with, still a very small fraction to use for data analysis (depending again on the total number of events and how much we wish to dedicate to training/testing a NN on)"
   ]
  },
  {
   "cell_type": "code",
   "execution_count": 16,
   "metadata": {},
   "outputs": [
    {
     "data": {
      "text/plain": [
       "0.5457941782930551"
      ]
     },
     "execution_count": 16,
     "metadata": {},
     "output_type": "execute_result"
    }
   ],
   "source": [
    "cutevents/events"
   ]
  },
  {
   "cell_type": "markdown",
   "metadata": {},
   "source": [
    "# fitting and hypothesis testing"
   ]
  },
  {
   "cell_type": "markdown",
   "metadata": {},
   "source": [
    "I concatenated the scaled and cut background dataframes into one dataframe for fitting and hypothesis testing. I tried to used non-scaled (just cut) but the histogram massively overwhelmed the signal data by about 20x."
   ]
  },
  {
   "cell_type": "code",
   "execution_count": 17,
   "metadata": {},
   "outputs": [
    {
     "name": "stdout",
     "output_type": "stream",
     "text": [
      "YES\n"
     ]
    }
   ],
   "source": [
    "mega = pd.concat([scaledcutDiboson,scaledcutTop,scaledcutZjets],ignore_index=True)\n",
    "sklearn.utils.shuffle(mega, random_state=24)\n",
    "mega.reset_index(drop=True)\n",
    "mega.head()\n",
    "\n",
    "if (len(mega.index) == len(scaledcutDiboson.index) + len(scaledcutZjets.index) + len(scaledcutTop.index)):\n",
    "    print (\"YES\")"
   ]
  },
  {
   "cell_type": "markdown",
   "metadata": {},
   "source": [
    "Helper functions were taken from learn solutions:\n",
    "\n",
    "- NegativeLLcalculator: negative log liklihood calculator, when training a model, we want to find the minima of a loss function given a set of parameters (in a neural network, for example).\n",
    "\n",
    "- findMax: finds the max value of a PDF given some variables\n",
    "\n",
    "- plotShape/mapShape: plot the PDF\n",
    "\n",
    "- printOptimizeResult: print out the optimised values for the variables"
   ]
  },
  {
   "cell_type": "markdown",
   "metadata": {},
   "source": [
    "## HELPER FUNCTIONS"
   ]
  },
  {
   "cell_type": "code",
   "execution_count": 18,
   "metadata": {},
   "outputs": [],
   "source": [
    "# To calculate NLL for optimize\n",
    "class NegativeLLcalculator:\n",
    "    \n",
    "    def __init__( self, pdf, data ):\n",
    "        self.pdf = pdf\n",
    "        self.data = data\n",
    " \n",
    "    # To calcualte an NLL frm a dataset and a pdf\n",
    "    # This format is suitable for use by optimize\n",
    "    def evaluate( self, params ):\n",
    "        nll = 0.\n",
    "        self.pdf.setParameters(params)\n",
    "        #print params\n",
    "        for i in range(len(self.data)):\n",
    "            prob = self.pdf.evaluate(self.data[i])\n",
    "            if prob <=0 : prob = 0.00000001\n",
    "            logprob = math.log(prob)\n",
    "            nll+= logprob\n",
    "        return -nll"
   ]
  },
  {
   "cell_type": "code",
   "execution_count": 20,
   "metadata": {},
   "outputs": [],
   "source": [
    "# To find the maximum value of a function\n",
    "def findMax( func, lolimit, hilimit ):\n",
    "    max = 0\n",
    "    grid= 100000\n",
    "    dt = (hilimit-lolimit)/float(grid)\n",
    "    for i in range(grid):\n",
    "        if( func(lolimit+i*dt) > max ): \n",
    "            max = func(lolimit+i*dt)\n",
    "    return max"
   ]
  },
  {
   "cell_type": "code",
   "execution_count": 21,
   "metadata": {},
   "outputs": [],
   "source": [
    "# function to plot a pdf and matching histogram data\n",
    "def plotShape( data, pdf, lolimit, hilimit, nbins ):\n",
    "    x,y = mapShape( pdf, lolimit, hilimit, nbins )\n",
    "    scaleFactor = len(data)/np.sum(y)\n",
    "    y = np.multiply( y, scaleFactor )\n",
    "    plt.plot(x,y)\n",
    "    plt.hist(data, bins=nbins, range=[lolimit,hilimit])\n",
    "    plt.show()"
   ]
  },
  {
   "cell_type": "code",
   "execution_count": 22,
   "metadata": {},
   "outputs": [],
   "source": [
    "# function to make x,y map of a shape function\n",
    "def mapShape( shape, lolimit, hilimit, steps ):\n",
    "    y = []\n",
    "    x = []\n",
    "    increment = (hilimit-lolimit)/float(steps)\n",
    "    for i in range( steps ):\n",
    "        t = lolimit+i*increment\n",
    "        x.append(t)\n",
    "        y.append(shape.evaluate(t))\n",
    "    return x,y"
   ]
  },
  {
   "cell_type": "code",
   "execution_count": 23,
   "metadata": {},
   "outputs": [],
   "source": [
    "def printOptimizeResult( result ):\n",
    "    values =  result.x\n",
    "    print(\"\\nFit parameter results are:\")\n",
    "    for i in range(len(values)):\n",
    "        print(\" p\"+str(i)+\" = \"+str(values[i]) )"
   ]
  },
  {
   "cell_type": "markdown",
   "metadata": {},
   "source": [
    "## SIGNAL FITTING"
   ]
  },
  {
   "cell_type": "markdown",
   "metadata": {},
   "source": [
    "I used a similar code to some of the checkpoints to miminmise the Gaussian dist (signal). It works, however it takes me running the same block ~4x to get the gaussian to not be wide and flat. It is weird and I cannot figure out why, I don't expect you to run the block 4 times either as it takes a while, but the values it gave me back were always mu~995000 and sigma~47000."
   ]
  },
  {
   "cell_type": "code",
   "execution_count": 24,
   "metadata": {},
   "outputs": [],
   "source": [
    "def Fit( ):\n",
    "    \n",
    "    print(\"=======================================\")\n",
    "    print(\"Doing: gaussian fit\")\n",
    "\n",
    "    lolimit = 800000.\n",
    "    hilimit = 1400000.\n",
    "    mu = 995000\n",
    "    sigma = 47000\n",
    "    \n",
    "    #Create the pdf\n",
    "    paramsin = [mu, sigma]\n",
    "    pdf = gaussian( lolimit, hilimit, paramsin )\n",
    "    \n",
    "    #get the data\n",
    "    data = ggH1000[\"reco_zv_mass\"]\n",
    "    plotShape( data, pdf, lolimit, hilimit, 80 )\n",
    "    \n",
    "    #Create an NLL calculator\n",
    "    nllcalc = NegativeLLcalculator( pdf, data )\n",
    "\n",
    "    #Fit for best parameters\n",
    "    result1 = minimiser.minimize(nllcalc.evaluate, paramsin, method=\"L-BFGS-B\" )\n",
    "  \n",
    "    #print result1\n",
    "    finalParams = result1.x\n",
    "    printOptimizeResult(result1)\n",
    "    \n",
    "    pdf.setParameters( finalParams )\n",
    "    plotShape( data, pdf, lolimit, hilimit, 80 )"
   ]
  },
  {
   "cell_type": "code",
   "execution_count": 25,
   "metadata": {},
   "outputs": [],
   "source": [
    "class gaussian:\n",
    "    \n",
    "    # Constructor\n",
    "    def __init__(self, lolim, hilim, params):\n",
    "        self.lolimit = lolim\n",
    "        self.hilimit = hilim\n",
    "        self.setParameters( params )\n",
    "        self.max = findMax( self.evaluate, self.lolimit, self.hilimit )\n",
    "    \n",
    "    # Set parameters\n",
    "    def setParameters(self, params ):\n",
    "        self.mu = params[0]\n",
    "        self.sigma = params[1]\n",
    "    \n",
    "    # Evaluate method (un-normalised)\n",
    "    def evaluate( self, x ):\n",
    "        part1 = (1/self.sigma*np.sqrt(2*np.pi))*np.exp(-np.power(x - self.mu, 2.) / (2 * np.power(self.sigma, 2.)))\n",
    "        return part1"
   ]
  },
  {
   "cell_type": "code",
   "execution_count": 26,
   "metadata": {
    "scrolled": false
   },
   "outputs": [
    {
     "name": "stdout",
     "output_type": "stream",
     "text": [
      "=======================================\n",
      "Doing: gaussian fit\n"
     ]
    },
    {
     "data": {
      "image/png": "[encoded data removed]",
      "text/plain": [
       "<Figure size 432x288 with 1 Axes>"
      ]
     },
     "metadata": {
      "needs_background": "light"
     },
     "output_type": "display_data"
    },
    {
     "name": "stdout",
     "output_type": "stream",
     "text": [
      "\n",
      "Fit parameter results are:\n",
      " p0 = 994999.7084856343\n",
      " p1 = 47011.952088994105\n"
     ]
    },
    {
     "data": {
      "image/png": "[encoded data removed]",
      "text/plain": [
       "<Figure size 432x288 with 1 Axes>"
      ]
     },
     "metadata": {
      "needs_background": "light"
     },
     "output_type": "display_data"
    }
   ],
   "source": [
    "Fit()"
   ]
  },
  {
   "cell_type": "markdown",
   "metadata": {},
   "source": [
    "## background fit"
   ]
  },
  {
   "cell_type": "markdown",
   "metadata": {},
   "source": [
    "Here I fit to the scaled, cut background. The line looks odd but only because it's fitting to the area I specified (in the range 800000,1400000). Once combined with the signal fit further down, it looks much more in line with what I expected."
   ]
  },
  {
   "cell_type": "code",
   "execution_count": 27,
   "metadata": {
    "scrolled": true
   },
   "outputs": [
    {
     "data": {
      "text/plain": [
       "[<matplotlib.lines.Line2D at 0x7f85cb7054e0>]"
      ]
     },
     "execution_count": 27,
     "metadata": {},
     "output_type": "execute_result"
    },
    {
     "data": {
      "image/png": "[encoded data removed]",
      "text/plain": [
       "<Figure size 432x288 with 1 Axes>"
      ]
     },
     "metadata": {
      "needs_background": "light"
     },
     "output_type": "display_data"
    }
   ],
   "source": [
    "n, bins, patches = plt.hist(mega['reco_zv_mass'], weights=mega['FullEventWeight'], bins=bins, label='background')\n",
    "x = np.linspace(800000, 1400000, 99)\n",
    "params = poly.polyfit(x, n, 1)\n",
    "polynomial = poly.polyval(x, params)\n",
    "plt.yscale('log')\n",
    "plt.xlabel('reco_zv_mass')\n",
    "plt.ylabel('bin count in log scale')\n",
    "plt.title('background fitting')\n",
    "plt.plot(x, polynomial)"
   ]
  },
  {
   "cell_type": "code",
   "execution_count": 28,
   "metadata": {},
   "outputs": [
    {
     "data": {
      "text/plain": [
       "[<matplotlib.lines.Line2D at 0x7f85cb75b240>]"
      ]
     },
     "execution_count": 28,
     "metadata": {},
     "output_type": "execute_result"
    },
    {
     "data": {
      "image/png": "[encoded data removed]",
      "text/plain": [
       "<Figure size 432x288 with 1 Axes>"
      ]
     },
     "metadata": {
      "needs_background": "light"
     },
     "output_type": "display_data"
    }
   ],
   "source": [
    "n, bins, patches = plt.hist(mega['reco_zv_mass'], weights=mega['FullEventWeight'], bins=bins, label='background')\n",
    "x = np.linspace(800000, 1400000, 99)\n",
    "params = poly.polyfit(x, n, 1)\n",
    "polynomial = poly.polyval(x, params)\n",
    "plt.yscale('log')\n",
    "plt.xlabel('reco_zv_mass')\n",
    "plt.ylabel('bin count in log scale')\n",
    "plt.title('background fitting for area of interest')\n",
    "plt.xlim(800000,1100000)\n",
    "plt.plot(x, polynomial)"
   ]
  },
  {
   "cell_type": "markdown",
   "metadata": {},
   "source": [
    "Below I combined the datasets just to see if the signal was still visible above the background."
   ]
  },
  {
   "cell_type": "code",
   "execution_count": 29,
   "metadata": {},
   "outputs": [
    {
     "data": {
      "image/png": "[encoded data removed]",
      "text/plain": [
       "<Figure size 432x288 with 1 Axes>"
      ]
     },
     "metadata": {
      "needs_background": "light"
     },
     "output_type": "display_data"
    }
   ],
   "source": [
    "plt.hist(mega['reco_zv_mass'], weights=mega['FullEventWeight'], bins=bins, label='background', histtype='step')\n",
    "plt.hist(cutggH1000['reco_zv_mass'],weights=cutggH1000['FullEventWeight'],histtype='step', color='r', bins =100)\n",
    "plt.yscale('log')\n",
    "plt.xlabel('reco_zv_mass')\n",
    "plt.ylabel('bin count in log scale')\n",
    "plt.xlim(800000,1400000)\n",
    "plt.show()"
   ]
  },
  {
   "cell_type": "markdown",
   "metadata": {},
   "source": [
    "## combining"
   ]
  },
  {
   "cell_type": "markdown",
   "metadata": {},
   "source": [
    "I attempted to use my long PDF from the gaussian section, however it threw an error when trying to combine with the line fit to plot a graph. So I switched the hand written equation for the gaussian with np.random.normal (which technically should give exactly the same thing, I think the fact I had a free variable x in my hand written equation was causing the issue) to draw values. I used the values from my fit so the formula should theoretically look identical when plotted. This section below takes a fraction, takes a random number, relative to the fraction the loop then takes either a background or signal value from the fits calculated above. Then calling the function and plotting the subsequent data gives the graph below."
   ]
  },
  {
   "cell_type": "code",
   "execution_count": 30,
   "metadata": {},
   "outputs": [],
   "source": [
    "frac=len(cutggH1000)/(len(scaledcutTop+scaledcutZjets+scaledcutDiboson)+len(cutggH1000))\n",
    "mass = []\n",
    "slp=params[1]\n",
    "intcpt=params[0]\n",
    "tot_events=len(ggH1000['reco_zv_mass'])+len(mega['reco_zv_mass'])\n",
    "mean=995000\n",
    "std=47000\n",
    "def comb_graph():\n",
    "    for i in range(0, tot_events):\n",
    "        rnd=np.random.uniform()\n",
    "        if(rnd<frac):\n",
    "            sig_x =  np.random.normal(mean, std)\n",
    "            mass.append(sig_x)\n",
    "        else:\n",
    "            doLoop=True\n",
    "            while(doLoop==True):\n",
    "                bgd_x=np.random.uniform(700000, 1500000)\n",
    "                y1=intcpt + slp * bgd_x\n",
    "                y2=np.random.uniform(0,n[0])\n",
    "                if(y2<y1):\n",
    "                    mass.append(bgd_x)\n",
    "                    doLoop=False"
   ]
  },
  {
   "cell_type": "code",
   "execution_count": 31,
   "metadata": {},
   "outputs": [
    {
     "data": {
      "image/png": "[encoded data removed]",
      "text/plain": [
       "<Figure size 432x288 with 1 Axes>"
      ]
     },
     "metadata": {
      "needs_background": "light"
     },
     "output_type": "display_data"
    }
   ],
   "source": [
    "comb_graph()\n",
    "plt.hist(mass, bins=100, histtype='step')\n",
    "plt.title('combined gauss/poly signal fit')\n",
    "plt.xlabel('reco_zv_mass')\n",
    "plt.ylabel('bin count')\n",
    "plt.xlim(800000, 1400000)\n",
    "plt.show()"
   ]
  },
  {
   "cell_type": "markdown",
   "metadata": {},
   "source": [
    "The graph above shows an obvious bump, which is the signal. I changed the histtype to step to make the bump more visible, I found this histtype easier to see the trend. Next I use Wilks theorem to calculate the statistical significance of the bump."
   ]
  },
  {
   "cell_type": "code",
   "execution_count": 32,
   "metadata": {},
   "outputs": [
    {
     "data": {
      "image/png": "[encoded data removed]",
      "text/plain": [
       "<Figure size 432x288 with 1 Axes>"
      ]
     },
     "metadata": {
      "needs_background": "light"
     },
     "output_type": "display_data"
    },
    {
     "name": "stdout",
     "output_type": "stream",
     "text": [
      "Fit converged =  True\n",
      "Solution:  [ 2.90257505e+03 -1.96308867e-03  6.90720000e+04  4.05824002e-01]\n",
      "Fit converged =  True\n",
      "Solution:  [ 2.90257505e+03 -1.96672318e-03  6.90720000e+04  0.00000000e+00]\n",
      "chi2_H1 =  10455.800961573757 chi2_H0 =  28577.59503054829 DChi2 =  18121.794068974534\n",
      "p-value =  0.0  or a inf sigma effect\n",
      "significance-value of : 0.3855700865739263\n"
     ]
    },
    {
     "data": {
      "image/png": "[encoded data removed]",
      "text/plain": [
       "<Figure size 432x720 with 3 Axes>"
      ]
     },
     "metadata": {
      "needs_background": "light"
     },
     "output_type": "display_data"
    }
   ],
   "source": [
    "np.random.seed(24)\n",
    "\n",
    "# background parameters\n",
    "XMIN = 800000.\n",
    "XMAX = 1400000.\n",
    "intercept = params[0]\n",
    "slope = params[1]\n",
    "# signal parameters\n",
    "mean = 995000\n",
    "sigma = 47000\n",
    "# chose number of bins that is appropriate for the size of the statistics sample\n",
    "NBINS = 100\n",
    "\n",
    "a = Analyzer(XMIN, XMAX, NBINS)\n",
    "a.setBackground(intercept, slope)\n",
    "a.setSignal(mean, sigma)\n",
    "Nsig = len(cutggH1000)\n",
    "Nbgd = len(scaledcutTop+scaledcutZjets+scaledcutDiboson)\n",
    "Ntot = Nsig + Nbgd\n",
    "f_sig = Nsig/(Nsig + Nbgd)\n",
    "\n",
    "output_pdf = 'Example4.pdf'\n",
    "H_data = a.singleToy(Nsig, Nbgd, output_pdf)\n",
    "verbose = True\n",
    "chi2_H1 = a.Fitter(H_data, Ntot, f_sig, verbose)\n",
    "chi2_H0 = a.Fitter(H_data, Ntot, 0, verbose)\n",
    "Ndof = 1\n",
    "p_value = 1 - scipy.stats.chi2.cdf(chi2_H0 - chi2_H1, Ndof)\n",
    "n_sigmas = erfinv(1 - p_value) * np.sqrt(2)\n",
    "chi2_Wilks = chi2_H0 - chi2_H1\n",
    "print(\"chi2_H1 = \", chi2_H1, \"chi2_H0 = \", chi2_H0, \"DChi2 = \", chi2_Wilks)\n",
    "print(\"p-value = \", p_value, \" or a {0:2.1f}\".format(n_sigmas), \"sigma effect\")\n",
    "print(\"significance-value of : \"+str(chi2_Wilks/sigma))"
   ]
  },
  {
   "cell_type": "markdown",
   "metadata": {},
   "source": [
    "- p-value: 0.0  or a inf sigma effect\n",
    "- significance-value, $\\alpha$: ~0.386\n",
    "\n",
    "The result is statistically significant, by the standards of the study, when p < $\\alpha$. As my p is < $\\alpha$, I can assume the null-hypothesis is wrong and H1 is true, thus the signal is real. HOWEVER (BIG HOWEVER), I scaled the background to be able to see the signal better, I had to reduce the background by 99% to see the signal when the data wasn't normalised (i.e. in the histogram when density=True). At this point, the scaling is drastically obvious and next time I would reduce it to a value closer to 50-60%."
   ]
  },
  {
   "cell_type": "markdown",
   "metadata": {},
   "source": [
    "# Employing a NN classifier"
   ]
  },
  {
   "cell_type": "markdown",
   "metadata": {},
   "source": [
    "Now combining uncut, unscaled backgrounds into a concatenated dataframe."
   ]
  },
  {
   "cell_type": "code",
   "execution_count": 33,
   "metadata": {},
   "outputs": [
    {
     "name": "stdout",
     "output_type": "stream",
     "text": [
      "YES\n"
     ]
    }
   ],
   "source": [
    "mega2 = pd.concat([Diboson,Top,Zjets,ggH1000],ignore_index=True)\n",
    "sklearn.utils.shuffle(mega2, random_state=24)\n",
    "mega2.reset_index(drop=True)\n",
    "mega2.head()\n",
    "\n",
    "if (len(mega2.index) == len(Diboson.index) + len(Zjets.index) + len(Top.index) +len(ggH1000.index)):\n",
    "    print (\"YES\")"
   ]
  },
  {
   "cell_type": "markdown",
   "metadata": {},
   "source": [
    "This step was to ensure that the training and testing datasets were the same size, as specified in the project description. The data was shuffled and compiled to send to the NN for training and testing."
   ]
  },
  {
   "cell_type": "code",
   "execution_count": 34,
   "metadata": {},
   "outputs": [
    {
     "name": "stdout",
     "output_type": "stream",
     "text": [
      "continue\n"
     ]
    },
    {
     "data": {
      "text/plain": [
       "(100026, 24)"
      ]
     },
     "execution_count": 34,
     "metadata": {},
     "output_type": "execute_result"
    }
   ],
   "source": [
    "signals = len(ggH1000.index)\n",
    "training = mega2.sample(n=signals)\n",
    "background = len(training.index)\n",
    "if (background == signals):\n",
    "    print(\"continue\")\n",
    "    \n",
    "NNdata = [ggH1000,training]\n",
    "NNdata = pd.concat(NNdata,ignore_index=True)\n",
    "sklearn.utils.shuffle(NNdata, random_state=24)\n",
    "NNdata.shape"
   ]
  },
  {
   "cell_type": "code",
   "execution_count": 35,
   "metadata": {},
   "outputs": [],
   "source": [
    "newsubset=[\"lep1_pt\",\"lep2_pt\",\"fatjet_pt\",\"fatjet_eta\",\"fatjet_D2\",\"Zll_mass\",\"Zll_pt\",\"MET\", \"reco_zv_mass\"]\n",
    "output=[\"isSignal\"]\n",
    "\n",
    "NNdataold = NNdata[newsubset+output]"
   ]
  },
  {
   "cell_type": "code",
   "execution_count": 36,
   "metadata": {
    "scrolled": true
   },
   "outputs": [
    {
     "data": {
      "text/html": [
       "<div>\n",
       "<style scoped>\n",
       "    .dataframe tbody tr th:only-of-type {\n",
       "        vertical-align: middle;\n",
       "    }\n",
       "\n",
       "    .dataframe tbody tr th {\n",
       "        vertical-align: top;\n",
       "    }\n",
       "\n",
       "    .dataframe thead th {\n",
       "        text-align: right;\n",
       "    }\n",
       "</style>\n",
       "<table border=\"1\" class=\"dataframe\">\n",
       "  <thead>\n",
       "    <tr style=\"text-align: right;\">\n",
       "      <th></th>\n",
       "      <th>lep1_pt</th>\n",
       "      <th>lep2_pt</th>\n",
       "      <th>fatjet_pt</th>\n",
       "      <th>fatjet_eta</th>\n",
       "      <th>fatjet_D2</th>\n",
       "      <th>Zll_mass</th>\n",
       "      <th>Zll_pt</th>\n",
       "      <th>MET</th>\n",
       "      <th>reco_zv_mass</th>\n",
       "      <th>isSignal</th>\n",
       "    </tr>\n",
       "  </thead>\n",
       "  <tbody>\n",
       "    <tr>\n",
       "      <th>0</th>\n",
       "      <td>320104.62</td>\n",
       "      <td>312638.44</td>\n",
       "      <td>480641.84</td>\n",
       "      <td>-0.851387</td>\n",
       "      <td>0.889354</td>\n",
       "      <td>87475.55</td>\n",
       "      <td>627990.80</td>\n",
       "      <td>44495.770</td>\n",
       "      <td>1063465.80</td>\n",
       "      <td>1</td>\n",
       "    </tr>\n",
       "    <tr>\n",
       "      <th>1</th>\n",
       "      <td>288589.78</td>\n",
       "      <td>129548.62</td>\n",
       "      <td>375352.78</td>\n",
       "      <td>1.041311</td>\n",
       "      <td>1.485706</td>\n",
       "      <td>90507.31</td>\n",
       "      <td>409780.94</td>\n",
       "      <td>34441.156</td>\n",
       "      <td>974210.75</td>\n",
       "      <td>1</td>\n",
       "    </tr>\n",
       "    <tr>\n",
       "      <th>2</th>\n",
       "      <td>228625.23</td>\n",
       "      <td>118590.28</td>\n",
       "      <td>555879.20</td>\n",
       "      <td>0.417858</td>\n",
       "      <td>1.219367</td>\n",
       "      <td>89765.85</td>\n",
       "      <td>344668.30</td>\n",
       "      <td>21625.379</td>\n",
       "      <td>996837.40</td>\n",
       "      <td>1</td>\n",
       "    </tr>\n",
       "    <tr>\n",
       "      <th>3</th>\n",
       "      <td>302502.84</td>\n",
       "      <td>233439.89</td>\n",
       "      <td>430646.20</td>\n",
       "      <td>0.438590</td>\n",
       "      <td>0.592705</td>\n",
       "      <td>92313.63</td>\n",
       "      <td>535629.06</td>\n",
       "      <td>21855.973</td>\n",
       "      <td>989655.56</td>\n",
       "      <td>1</td>\n",
       "    </tr>\n",
       "    <tr>\n",
       "      <th>4</th>\n",
       "      <td>224785.02</td>\n",
       "      <td>76205.98</td>\n",
       "      <td>244348.40</td>\n",
       "      <td>1.213717</td>\n",
       "      <td>0.724910</td>\n",
       "      <td>89451.92</td>\n",
       "      <td>296257.47</td>\n",
       "      <td>33677.380</td>\n",
       "      <td>993398.30</td>\n",
       "      <td>1</td>\n",
       "    </tr>\n",
       "  </tbody>\n",
       "</table>\n",
       "</div>"
      ],
      "text/plain": [
       "     lep1_pt    lep2_pt  fatjet_pt  fatjet_eta  fatjet_D2  Zll_mass  \\\n",
       "0  320104.62  312638.44  480641.84   -0.851387   0.889354  87475.55   \n",
       "1  288589.78  129548.62  375352.78    1.041311   1.485706  90507.31   \n",
       "2  228625.23  118590.28  555879.20    0.417858   1.219367  89765.85   \n",
       "3  302502.84  233439.89  430646.20    0.438590   0.592705  92313.63   \n",
       "4  224785.02   76205.98  244348.40    1.213717   0.724910  89451.92   \n",
       "\n",
       "      Zll_pt        MET  reco_zv_mass  isSignal  \n",
       "0  627990.80  44495.770    1063465.80         1  \n",
       "1  409780.94  34441.156     974210.75         1  \n",
       "2  344668.30  21625.379     996837.40         1  \n",
       "3  535629.06  21855.973     989655.56         1  \n",
       "4  296257.47  33677.380     993398.30         1  "
      ]
     },
     "execution_count": 36,
     "metadata": {},
     "output_type": "execute_result"
    }
   ],
   "source": [
    "NNdataold.head()"
   ]
  },
  {
   "cell_type": "code",
   "execution_count": 37,
   "metadata": {},
   "outputs": [],
   "source": [
    "NNinput = NNdataold[newsubset]\n",
    "NNoutput = NNdataold[output]\n",
    "NNinput = NNinput.values\n",
    "NNoutput = NNoutput.values"
   ]
  },
  {
   "cell_type": "code",
   "execution_count": 38,
   "metadata": {},
   "outputs": [
    {
     "name": "stdout",
     "output_type": "stream",
     "text": [
      "(50013, 9) (50013, 1) (50013, 9) (50013, 1)\n"
     ]
    }
   ],
   "source": [
    "kfold=KFold(n_splits=10,  random_state=24)\n",
    "# train -test  split  of  dataset\n",
    "train_data , test_data , train_target , test_target = model_selection.train_test_split (NNinput , NNoutput , test_size =0.5,  random_state=24)\n",
    "print(train_data.shape , train_target.shape , test_data.shape , test_target.shape)"
   ]
  },
  {
   "cell_type": "markdown",
   "metadata": {},
   "source": [
    "I liked the grid-search we used during the checkpoints so I used it, it always gave me a much better R^2 value than I could get by designing the NN and specifying numbers of nodes, leafs etc. I used the basic gradient boosting regressor, then used grid search to find the best parameters. Then those parameters were passed to a new gradient boosting regressor and that NN was used to predict data."
   ]
  },
  {
   "cell_type": "code",
   "execution_count": 39,
   "metadata": {},
   "outputs": [
    {
     "data": {
      "text/plain": [
       "0.8161804782984966"
      ]
     },
     "execution_count": 39,
     "metadata": {},
     "output_type": "execute_result"
    }
   ],
   "source": [
    "gbr0 = GradientBoostingRegressor(n_estimators =100)\n",
    "train_r2 = gbr0.fit(train_data , train_target.ravel())\n",
    "train_r2.score(train_data, train_target)"
   ]
  },
  {
   "cell_type": "code",
   "execution_count": 40,
   "metadata": {},
   "outputs": [
    {
     "data": {
      "text/plain": [
       "0.8155718485205984"
      ]
     },
     "execution_count": 40,
     "metadata": {},
     "output_type": "execute_result"
    }
   ],
   "source": [
    "test_r2 = gbr0.fit(test_data , test_target.ravel())\n",
    "test_r2.score(test_data, test_target)"
   ]
  },
  {
   "cell_type": "markdown",
   "metadata": {},
   "source": [
    "The R^2 for both the train and test datasets are above 80 and similar, so I can assume the model isn't overfitting"
   ]
  },
  {
   "cell_type": "code",
   "execution_count": 41,
   "metadata": {},
   "outputs": [
    {
     "name": "stdout",
     "output_type": "stream",
     "text": [
      "Fitting 10 folds for each of 8 candidates, totalling 80 fits\n"
     ]
    },
    {
     "name": "stderr",
     "output_type": "stream",
     "text": [
      "[Parallel(n_jobs=8)]: Using backend LokyBackend with 8 concurrent workers.\n",
      "[Parallel(n_jobs=8)]: Done  34 tasks      | elapsed:  7.9min\n",
      "[Parallel(n_jobs=8)]: Done  80 out of  80 | elapsed: 19.7min finished\n"
     ]
    },
    {
     "name": "stdout",
     "output_type": "stream",
     "text": [
      "Best  estimator:\n",
      "GradientBoostingRegressor(alpha=0.9, criterion='friedman_mse', init=None,\n",
      "             learning_rate=0.05, loss='ls', max_depth=10,\n",
      "             max_features=None, max_leaf_nodes=None,\n",
      "             min_impurity_decrease=0.0, min_impurity_split=None,\n",
      "             min_samples_leaf=100, min_samples_split=2,\n",
      "             min_weight_fraction_leaf=0.0, n_estimators=100,\n",
      "             n_iter_no_change=None, presort='auto', random_state=None,\n",
      "             subsample=1.0, tol=0.0001, validation_fraction=0.1, verbose=0,\n",
      "             warm_start=False)\n"
     ]
    }
   ],
   "source": [
    "param_grid_ = {\n",
    "'n_estimators':[100] ,\n",
    "'learning_rate': [0.1, 0.05],\n",
    "'max_depth':[5, 10],\n",
    "'min_samples_leaf':[100 ,150] ,\n",
    "}\n",
    "njobs_ =8   # jobs to run in  parallel\n",
    "np.random.seed(24)\n",
    "gbr = GradientBoostingRegressor ()\n",
    "classifier = GridSearchCV(estimator=gbr , cv=KFold(n_splits=10,  random_state=24) , param_grid=param_grid_ ,\n",
    "n_jobs=njobs_ , verbose =1)\n",
    "classifier.fit(train_data , train_target.ravel ())\n",
    "print (\"Best  estimator:\")\n",
    "print (classifier.best_estimator_)"
   ]
  },
  {
   "cell_type": "code",
   "execution_count": 42,
   "metadata": {},
   "outputs": [],
   "source": [
    "gbr1 = classifier.best_estimator_"
   ]
  },
  {
   "cell_type": "code",
   "execution_count": 43,
   "metadata": {},
   "outputs": [
    {
     "name": "stdout",
     "output_type": "stream",
     "text": [
      "Result: 0.83 ± 0.01\n"
     ]
    }
   ],
   "source": [
    "results2 = cross_val_score(gbr1 , test_data , test_target.ravel() , cv=kfold, scoring='r2')\n",
    "print(\"Result: %.2f %s %.2f\" % (results2.mean(), u\"\\u00B1\", results2.std() ))"
   ]
  },
  {
   "cell_type": "code",
   "execution_count": 44,
   "metadata": {},
   "outputs": [
    {
     "name": "stdout",
     "output_type": "stream",
     "text": [
      "R^2 of 0.8584583953024396\n"
     ]
    }
   ],
   "source": [
    "train_r2v2 = gbr1.fit(train_data , train_target.ravel())\n",
    "print('R^2 of '+str(train_r2v2.score(train_data, train_target)))"
   ]
  },
  {
   "cell_type": "markdown",
   "metadata": {},
   "source": [
    "As the R^2 values of both training and test datasets are similar, I can assume that the NN isn't overfitting or underfitting, it is performing as expected. Next, I replace 'isSignal' generated data < 0.5 with NaN and they are not plotted in the Histogram."
   ]
  },
  {
   "cell_type": "code",
   "execution_count": 45,
   "metadata": {},
   "outputs": [],
   "source": [
    "model2 = gbr1\n",
    "predictv2 = model2.predict(NNdataold[newsubset].sample(frac=0.5))\n",
    "\n",
    "predictv2[predictv2<0.5] = np.nan"
   ]
  },
  {
   "cell_type": "code",
   "execution_count": 46,
   "metadata": {
    "scrolled": false
   },
   "outputs": [
    {
     "name": "stderr",
     "output_type": "stream",
     "text": [
      "/opt/conda-pdaml/lib/python3.6/site-packages/numpy/lib/histograms.py:754: RuntimeWarning: invalid value encountered in greater_equal\n",
      "  keep = (tmp_a >= first_edge)\n",
      "/opt/conda-pdaml/lib/python3.6/site-packages/numpy/lib/histograms.py:755: RuntimeWarning: invalid value encountered in less_equal\n",
      "  keep &= (tmp_a <= last_edge)\n"
     ]
    },
    {
     "data": {
      "image/png": "[encoded data removed]",
      "text/plain": [
       "<Figure size 432x288 with 2 Axes>"
      ]
     },
     "metadata": {
      "needs_background": "light"
     },
     "output_type": "display_data"
    }
   ],
   "source": [
    "plt.subplot(121)\n",
    "plt.hist(predictv2)\n",
    "plt.xlabel('isSignal > 0.5 prediction')\n",
    "plt.ylabel('bin count')\n",
    "plt.subplot(122)\n",
    "plt.hist(test_target)\n",
    "plt.xlabel('isSignal actual')\n",
    "plt.ylabel('bin count')\n",
    "plt.show()"
   ]
  },
  {
   "cell_type": "code",
   "execution_count": 47,
   "metadata": {},
   "outputs": [
    {
     "data": {
      "text/plain": [
       "(23659.709349151486, 25167)"
      ]
     },
     "execution_count": 47,
     "metadata": {},
     "output_type": "execute_result"
    }
   ],
   "source": [
    "predictv2bins = predictv2[~np.isnan(predictv2)]\n",
    "np.sum(predictv2bins), np.sum(test_target[test_target==1])"
   ]
  },
  {
   "cell_type": "markdown",
   "metadata": {},
   "source": [
    "We can see above, taking a very rough estimate (using isSignal >= 0.5) that the prediction from the NN contains roughly the right amount of events, expecially for the small dataset it was trained on."
   ]
  },
  {
   "cell_type": "code",
   "execution_count": 48,
   "metadata": {},
   "outputs": [
    {
     "data": {
      "text/plain": [
       "0.9401084495232441"
      ]
     },
     "execution_count": 48,
     "metadata": {},
     "output_type": "execute_result"
    }
   ],
   "source": [
    "(np.sum(predictv2bins)/np.sum(test_target[test_target==1]))"
   ]
  },
  {
   "cell_type": "markdown",
   "metadata": {},
   "source": [
    "The NN predicts a signal correctly 0.94 of the time (94%) and only 'mis-assigns' a signal as background ~6% of the time."
   ]
  },
  {
   "cell_type": "markdown",
   "metadata": {},
   "source": [
    "For the next part, GradientBoostingRegressor has no method to calculate the probability of it's values, so I need to switch to another NN, so I set up the keras (tensorflow) NN we have used before. This one allows me to predict values and the probabilities of those values being right."
   ]
  },
  {
   "cell_type": "code",
   "execution_count": 49,
   "metadata": {},
   "outputs": [
    {
     "name": "stdout",
     "output_type": "stream",
     "text": [
      "(50013, 9) (50013, 1) (50013, 9) (50013, 1)\n"
     ]
    }
   ],
   "source": [
    "sc = preprocessing.StandardScaler ()\n",
    "input_data = sc.fit_transform(NNinput)\n",
    "# train -test  split  of  dataset\n",
    "train_data3 , test_data3 , train_target3 , test_target3 = model_selection.train_test_split (\\\n",
    "input_data , NNoutput , test_size =0.5,  random_state=24)\n",
    "print(train_data3.shape , train_target3.shape , test_data3.shape , test_target3.shape)"
   ]
  },
  {
   "cell_type": "code",
   "execution_count": 50,
   "metadata": {},
   "outputs": [],
   "source": [
    "num_inputs = len(newsubset)\n",
    "num_nodes = 40\n",
    "extra_depth = 2\n",
    "N_epochs = 200\n",
    "batchSize = 1500\n",
    "\n",
    "model_new = my_util.my_model(num_inputs,num_nodes,extra_depth)"
   ]
  },
  {
   "cell_type": "code",
   "execution_count": 51,
   "metadata": {},
   "outputs": [],
   "source": [
    "predicted = model_new.predict(mega2[newsubset])\n",
    "predicted_signal = (predicted > 0.5)\n",
    "wtype = ['background', 'signal']"
   ]
  },
  {
   "cell_type": "code",
   "execution_count": 52,
   "metadata": {
    "scrolled": false
   },
   "outputs": [
    {
     "data": {
      "image/png": "[encoded data removed]",
      "text/plain": [
       "<Figure size 432x288 with 2 Axes>"
      ]
     },
     "metadata": {
      "needs_background": "light"
     },
     "output_type": "display_data"
    },
    {
     "data": {
      "image/png": "[encoded data removed]",
      "text/plain": [
       "<Figure size 432x288 with 2 Axes>"
      ]
     },
     "metadata": {
      "needs_background": "light"
     },
     "output_type": "display_data"
    }
   ],
   "source": [
    "cm = sklearn.metrics.confusion_matrix(mega2['isSignal'], predicted_signal)\n",
    "dt_utils.plot_cm(cm, wtype)\n",
    "pl.title(\"confusion matrix\")\n",
    "pl.show()\n",
    "nn_utils.heatmap(cm, labels=[\"Predicted\", \"True\"], classes=[wtype,wtype], normalize=True)\n",
    "pl.title(\"normalized confusion matrix\")\n",
    "pl.show()"
   ]
  },
  {
   "cell_type": "markdown",
   "metadata": {},
   "source": [
    "Clearly, testing on the whole dataset, the small number of signal events (~100000 vs 6000000) means the model struggles to predict signals. Below I attempt to use the training and testing data sets I have set up previously to see if a 50/50 mix of signal and background makes it easier for the NN to predict signals."
   ]
  },
  {
   "cell_type": "code",
   "execution_count": 53,
   "metadata": {},
   "outputs": [],
   "source": [
    "predicted2 = model_new.predict(test_data3)\n",
    "predicted_signal2 = (predicted2 > 0.5)"
   ]
  },
  {
   "cell_type": "code",
   "execution_count": 54,
   "metadata": {
    "scrolled": false
   },
   "outputs": [
    {
     "data": {
      "image/png": "[encoded data removed]",
      "text/plain": [
       "<Figure size 432x288 with 2 Axes>"
      ]
     },
     "metadata": {
      "needs_background": "light"
     },
     "output_type": "display_data"
    },
    {
     "data": {
      "image/png": "[encoded data removed]",
      "text/plain": [
       "<Figure size 432x288 with 2 Axes>"
      ]
     },
     "metadata": {
      "needs_background": "light"
     },
     "output_type": "display_data"
    }
   ],
   "source": [
    "cm = sklearn.metrics.confusion_matrix(test_target3, predicted_signal2)\n",
    "dt_utils.plot_cm(cm, wtype)\n",
    "pl.title(\"confusion matrix\")\n",
    "pl.show()\n",
    "nn_utils.heatmap(cm, labels=[\"Predicted\", \"True\"], classes=[wtype,wtype], normalize=True)\n",
    "pl.title(\"normalized confusion matrix\")\n",
    "pl.show()"
   ]
  },
  {
   "cell_type": "markdown",
   "metadata": {},
   "source": [
    "This is a huge improvement from the previous dataset (predicted data using the entire dataset) however, the NN is still terrible at predicting signal events, even with a 50/50 mix, this may be due to the kinematics being so similar, I will attempt once more with the cut data sets to see if the model gets any better"
   ]
  },
  {
   "cell_type": "code",
   "execution_count": 98,
   "metadata": {},
   "outputs": [],
   "source": [
    "predicted3 = model_new.predict(mega2[newsubset])\n",
    "predicted_signal3 = (predicted3 > 0.5)"
   ]
  },
  {
   "cell_type": "code",
   "execution_count": 99,
   "metadata": {},
   "outputs": [
    {
     "data": {
      "image/png": "[encoded data removed]",
      "text/plain": [
       "<Figure size 432x288 with 2 Axes>"
      ]
     },
     "metadata": {
      "needs_background": "light"
     },
     "output_type": "display_data"
    },
    {
     "data": {
      "image/png": "[encoded data removed]",
      "text/plain": [
       "<Figure size 432x288 with 2 Axes>"
      ]
     },
     "metadata": {
      "needs_background": "light"
     },
     "output_type": "display_data"
    }
   ],
   "source": [
    "cm = sklearn.metrics.confusion_matrix(mega2['isSignal'], predicted_signal3)\n",
    "dt_utils.plot_cm(cm, wtype)\n",
    "pl.title(\"confusion matrix\")\n",
    "pl.show()\n",
    "nn_utils.heatmap(cm, labels=[\"Predicted\", \"True\"], classes=[wtype,wtype], normalize=True)\n",
    "pl.title(\"normalized confusion matrix\")\n",
    "pl.show()"
   ]
  },
  {
   "cell_type": "markdown",
   "metadata": {},
   "source": [
    "This is a confusing result as the model still predicts >99% of the events are background."
   ]
  },
  {
   "cell_type": "code",
   "execution_count": 57,
   "metadata": {},
   "outputs": [],
   "source": [
    "testdat = sc.fit_transform(mega2[newsubset])"
   ]
  },
  {
   "cell_type": "code",
   "execution_count": 58,
   "metadata": {},
   "outputs": [],
   "source": [
    "predic_data=model_new.predict_proba(testdat)"
   ]
  },
  {
   "cell_type": "markdown",
   "metadata": {},
   "source": [
    "Here, I am taking the predicted probability for the isSignal predicted and dropping values less than 0.5 and plotting the reco_zv_mass left."
   ]
  },
  {
   "cell_type": "code",
   "execution_count": 101,
   "metadata": {
    "scrolled": false
   },
   "outputs": [
    {
     "name": "stderr",
     "output_type": "stream",
     "text": [
      "/opt/conda-pdaml/lib/python3.6/site-packages/ipykernel_launcher.py:2: SettingWithCopyWarning: \n",
      "A value is trying to be set on a copy of a slice from a DataFrame.\n",
      "Try using .loc[row_indexer,col_indexer] = value instead\n",
      "\n",
      "See the caveats in the documentation: http://pandas.pydata.org/pandas-docs/stable/indexing.html#indexing-view-versus-copy\n",
      "  \n"
     ]
    }
   ],
   "source": [
    "probi=mega2[newsubset]\n",
    "probi['probability'] = predic_data\n",
    "probability = probi[probi['probability']>0.5]\n",
    "probability = probability.query('800000<reco_zv_mass<1400000')"
   ]
  },
  {
   "cell_type": "code",
   "execution_count": 102,
   "metadata": {},
   "outputs": [
    {
     "data": {
      "image/png": "[encoded data removed]",
      "text/plain": [
       "<Figure size 432x288 with 1 Axes>"
      ]
     },
     "metadata": {
      "needs_background": "light"
     },
     "output_type": "display_data"
    }
   ],
   "source": [
    "s=plt.hist(probability['reco_zv_mass'], bins=100, histtype='step')\n",
    "plt.xlim(800000,1400000)\n",
    "plt.ylim(0,100)\n",
    "plt.title('cleaned reco_zv_mass mass spectrum')\n",
    "plt.xlabel('reco_zv_mass')\n",
    "plt.ylabel('bin count')\n",
    "plt.show()"
   ]
  },
  {
   "cell_type": "markdown",
   "metadata": {},
   "source": [
    "Zooming in on the area of interest, it is extremely hard to see if there is a signal there or not. I would definitely not have even seen the possible signal had I not known where to zoom in on the graph."
   ]
  },
  {
   "cell_type": "code",
   "execution_count": 100,
   "metadata": {},
   "outputs": [
    {
     "name": "stdout",
     "output_type": "stream",
     "text": [
      "Fit converged =  False\n",
      "Solution:  [2.90257181e+03 7.38163667e+01 6.62942900e+06 9.86858714e-06]\n",
      "Fit converged =  True\n",
      "Solution:  [2.90200160e+03 1.25112922e+02 6.62942900e+06 0.00000000e+00]\n",
      "chi2_H1 =  12457052.070554432 chi2_H0 =  12457165.601571064 DChi2 =  113.53101663291454\n",
      "p-value =  0.0  or a inf sigma effect\n",
      "significance-value of : 0.0024155535453811603\n"
     ]
    },
    {
     "data": {
      "image/png": "[encoded data removed]",
      "text/plain": [
       "<Figure size 432x288 with 1 Axes>"
      ]
     },
     "metadata": {
      "needs_background": "light"
     },
     "output_type": "display_data"
    }
   ],
   "source": [
    "def Wilks():\n",
    "\n",
    "    Nsig = len(ggH1000)\n",
    "    Nbgd = len(Top+Zjets+Diboson)\n",
    "    Ntot = Nsig + Nbgd\n",
    "    f_sig = Nsig/(Nsig + Nbgd)\n",
    "    \n",
    "    H_data = s\n",
    "    verbose = True\n",
    "    chi2_H1 = a.Fitter(H_data, Ntot, f_sig, verbose)\n",
    "    chi2_H0 = a.Fitter(H_data, Ntot, 0, verbose)\n",
    "    Ndof = 1\n",
    "    p_value = 1 - scipy.stats.chi2.cdf(chi2_H0 - chi2_H1, Ndof)\n",
    "    n_sigmas = erfinv(1 - p_value) * np.sqrt(2)\n",
    "    chi2_Wilks = chi2_H0 - chi2_H1\n",
    "    print(\"chi2_H1 = \", chi2_H1, \"chi2_H0 = \", chi2_H0, \"DChi2 = \", chi2_Wilks)\n",
    "    print(\"p-value = \", p_value, \" or a {0:2.1f}\".format(n_sigmas), \"sigma effect\")\n",
    "    print(\"significance-value of : \"+str(chi2_Wilks/sigma))\n",
    "    \n",
    "Wilks()"
   ]
  },
  {
   "cell_type": "markdown",
   "metadata": {},
   "source": [
    "This time, Wilks rejects H1 and accepts the null hypothesis. Wilks theorem detects that the data is normal and cannot detect a signal in the distribution. This makes sense as the signal can't even be seen by eyes from the previous histogram. However, when I run it again, it gives a different answer, this time accepting the H1. Even though there appears to be no visible signal, it says there is a signal."
   ]
  },
  {
   "cell_type": "markdown",
   "metadata": {},
   "source": [
    "#  Impact of training sample on classifier"
   ]
  },
  {
   "cell_type": "markdown",
   "metadata": {},
   "source": [
    "Now using the cut data (dataframes with kinematic cuts applied) to train and test a NN with again, a 50/50 split"
   ]
  },
  {
   "cell_type": "code",
   "execution_count": 62,
   "metadata": {},
   "outputs": [
    {
     "data": {
      "text/plain": [
       "(555715, 10)"
      ]
     },
     "execution_count": 62,
     "metadata": {},
     "output_type": "execute_result"
    }
   ],
   "source": [
    "#Feed data from interesting values to classifier\n",
    "totaldataset = pd.concat([cutDiboson,cutTop,cutZjets],ignore_index=True)\n",
    "totaldataset = totaldataset.query('800000<reco_zv_mass<1400000')\n",
    "totaldataset = totaldataset[newsubset + output]\n",
    "totaldataset.shape"
   ]
  },
  {
   "cell_type": "code",
   "execution_count": 63,
   "metadata": {
    "scrolled": true
   },
   "outputs": [
    {
     "name": "stdout",
     "output_type": "stream",
     "text": [
      "continue\n"
     ]
    },
    {
     "name": "stderr",
     "output_type": "stream",
     "text": [
      "/opt/conda-pdaml/lib/python3.6/site-packages/ipykernel_launcher.py:8: FutureWarning: Sorting because non-concatenation axis is not aligned. A future version\n",
      "of pandas will change to not sort by default.\n",
      "\n",
      "To accept the future behavior, pass 'sort=False'.\n",
      "\n",
      "To retain the current behavior and silence the warning, pass 'sort=True'.\n",
      "\n",
      "  \n"
     ]
    },
    {
     "data": {
      "text/plain": [
       "(64580, 11)"
      ]
     },
     "execution_count": 63,
     "metadata": {},
     "output_type": "execute_result"
    }
   ],
   "source": [
    "signals = len(cutggH1000.index)\n",
    "training = totaldataset.sample(n=signals)\n",
    "background = len(training.index)\n",
    "if (background == signals):\n",
    "    print(\"continue\")\n",
    "    \n",
    "finalNNdata = [cutggH1000,training]\n",
    "finalNNdata = pd.concat(finalNNdata,ignore_index=True)\n",
    "sklearn.utils.shuffle(finalNNdata, random_state=24)\n",
    "finalNNdata.shape"
   ]
  },
  {
   "cell_type": "code",
   "execution_count": 64,
   "metadata": {},
   "outputs": [],
   "source": [
    "newNNinput = finalNNdata[newsubset]\n",
    "newNNoutput = finalNNdata[output]\n",
    "newNNinput = newNNinput.values\n",
    "newNNoutput = newNNoutput.values"
   ]
  },
  {
   "cell_type": "code",
   "execution_count": 65,
   "metadata": {},
   "outputs": [
    {
     "name": "stdout",
     "output_type": "stream",
     "text": [
      "(32290, 9) (32290, 1) (32290, 9) (32290, 1)\n"
     ]
    }
   ],
   "source": [
    "kfold=KFold(n_splits=10,  random_state=24)\n",
    "# train-test  split  of  dataset\n",
    "train_data2 , test_data2 , train_target2 , test_target2 = model_selection.train_test_split (newNNinput , newNNoutput , test_size =0.5,  random_state=24)\n",
    "print(train_data2.shape , train_target2.shape , test_data2.shape , test_target2.shape)"
   ]
  },
  {
   "cell_type": "code",
   "execution_count": 66,
   "metadata": {},
   "outputs": [
    {
     "name": "stdout",
     "output_type": "stream",
     "text": [
      "R^2 of -0.7055604980991961\n"
     ]
    }
   ],
   "source": [
    "train_r2v3 = gbr1.fit(train_data2 , train_target2.ravel())\n",
    "print('R^2 of '+str(train_r2v3.score(train_data, train_target)))"
   ]
  },
  {
   "cell_type": "code",
   "execution_count": 67,
   "metadata": {},
   "outputs": [
    {
     "name": "stdout",
     "output_type": "stream",
     "text": [
      "Result: 0.63 ± 0.01\n"
     ]
    }
   ],
   "source": [
    "results3 = cross_val_score(gbr1, test_data2, test_target2.ravel() , cv=kfold, scoring='r2')\n",
    "print(\"Result: %.2f %s %.2f\" % (results3.mean(), u\"\\u00B1\", results3.std() ))"
   ]
  },
  {
   "cell_type": "markdown",
   "metadata": {},
   "source": [
    "The R^2 values are lower and negative(? unsure why, it should not be negative, it suggests there are terms in the dataset that do not help the fit.) This shows that the kinematic cuts have made it more difficult for the model to predict a trend as I have altered it in a way that doesn't seem natural to the model. Or, I have imported and set up the training and testing datasets wrong, this seems more likely, but I can't see where I would have made a mistake with the dataset.\n",
    "\n",
    "Either way, from the set up of the model (epochs, depth, nodes, sample sizes etc) to the data itself, every stage is prone to change. Some models will work better on cut data sets, and some models will work better with full datasets. The model I used appears to perform better on the full dataset than the cut/scaled datasets. Either too much information is cut during the kinematic cuts/ the trend is lost from the kinematic cuts, or the model struggles with the low level of signal."
   ]
  },
  {
   "cell_type": "markdown",
   "metadata": {},
   "source": [
    "# Conclusion"
   ]
  },
  {
   "cell_type": "markdown",
   "metadata": {},
   "source": [
    "- **Setup**\n",
    "\n",
    "The set up was the simplest part, the data was all fairly well scrubbed before we even used it (I found a few NaN values I had to drop). I replaced infinities with NaN, then dropped all NaN. The plots of the variables give good trends and a clear signal when normalised. Without normalising the datasets, the signal is drowned by the background. The cuts also made the trends very erratic, but the signal was visible after the cuts in the plots that weren't normalised. This was a good start to begin data processing.\n",
    "\n",
    "- **Fitting and hypothesis-testing**\n",
    "\n",
    "Fitting for the signal as a Gaussian was undoubtably more complicated. I found a strange error where the Fit() function I made would only properly converge on the data 1/4 times it was ran. However, when it did run, it fit the data extremely well.\n",
    "\n",
    "Fitting the background was easier, I decided against using the overcomplicated method used for the gaussian. The background polynomial fit well in the area of interest (as that was what I specified), however, it was a terrible fit outside. I found fitting to the general trend gave a bad fit in the area of interest. Combining the two trends and using Wilks theorem found that the signal was there, with a low significance value. The p-value was 0 and gave an infinite sigma so it goes beyond discovery I suppose. But this is because I used the scaled, cut data so the dataset for background and signal were roughly the same, it would be quite different if I used the full dataset.\n",
    "\n",
    "- **Employing a NN classifier**\n",
    "\n",
    "I started with a GradientBoostingRegressor, which gave great results with R^2 values in the 80s when trained on the uncut, unscaled data set. This was the highest R^2 value I got, so I have to conclude that it was the best ML technique I used. However, small caveat, as I did not use the full data for the other models, perhaps they may have performed just as well. But I do like that it finds the best parameters instead of me trying to change epochs, depths, nodes etc... It predicted a signal correctly 94% of the time for a dataset of ~25000 entries.\n",
    "\n",
    "Moving on the next ML technique, keras tensorflow was used as the GBR has no method to call to find the probabilities of it's predicted values. However, I feel my model was woefully inadequate as it was barely ever able to correctly predict a signal. The highest it ever predicted was ~5000 events (out of 100000) which was using data from the uncut, unscaled original dataset. It only got worse as I used cut data and scaled data. When using the predicted data and probability values of the predicted data. The signal disappeared and Wilks theorem gave a p-value of 1 and a negative significance value. Meaning that there was no way of misinterpreting the results, there was no signal present in the predicted data.\n",
    "\n",
    "- **Impact of training sample on classifier**\n",
    "\n",
    "Moving back to the GBR to test, using cut data made the R^2 value much lower for the test data and the train data R^2 was negative... I have to assume either there was variables in the data that don't contribute to the output (which there wasn't, I checked the dataframe) or that the cut data now had lost so much information on the trend that the ML algorithm struggled to find a pattern. Either way, I find that any ML technique, prefers the full, unedited dataset to make information decisions in its logic. By taking out information, it may make it easier for us to visualise, but makes it harder for the ML to process."
   ]
  },
  {
   "cell_type": "code",
   "execution_count": null,
   "metadata": {},
   "outputs": [],
   "source": []
  }
 ],
 "metadata": {
  "kernelspec": {
   "display_name": "Python 3",
   "language": "python",
   "name": "python3"
  },
  "language_info": {
   "codemirror_mode": {
    "name": "ipython",
    "version": 3
   },
   "file_extension": ".py",
   "mimetype": "text/x-python",
   "name": "python",
   "nbconvert_exporter": "python",
   "pygments_lexer": "ipython3",
   "version": "3.6.7"
  }
 },
 "nbformat": 4,
 "nbformat_minor": 2
}
